{
 "cells": [
  {
   "cell_type": "code",
   "execution_count": 1,
   "metadata": {},
   "outputs": [],
   "source": [
    "import sklearn\n",
    "import os \n",
    "import pandas as pd\n",
    "import numpy as np\n",
    "from statistics import mean"
   ]
  },
  {
   "cell_type": "markdown",
   "metadata": {},
   "source": [
    "**IMPORTING FILES**"
   ]
  },
  {
   "cell_type": "code",
   "execution_count": 2,
   "metadata": {},
   "outputs": [],
   "source": [
    "#reads files and creates list\n",
    "def filereader(path):\n",
    "    list_of_comments = []\n",
    "    all_files = os.listdir(path)\n",
    "    for folder in all_files:\n",
    "        files = os.listdir(path+folder)\n",
    "        for file in files:\n",
    "            pathname = path+folder+'\\\\'+file\n",
    "            file = open(pathname, 'r')\n",
    "            list_of_comments.append(file.readline())\n",
    "    return list_of_comments"
   ]
  },
  {
   "cell_type": "code",
   "execution_count": 21,
   "metadata": {},
   "outputs": [],
   "source": [
    "# Ott et. al (2011) - MTurk Hotel dataset\n",
    "neg_pol_truthful = filereader(\"C:\\\\Users\\\\alexa\\\\Desktop\\\\op_spam_dataset\\\\negative_polarity\\\\truthful_from_Web\\\\\")\n",
    "neg_pol_deceptive = filereader(\"C:\\\\Users\\\\alexa\\\\Desktop\\\\op_spam_dataset\\\\negative_polarity\\\\deceptive_from_MTurk\\\\\")\n",
    "pos_pol_truthful = filereader(\"C:\\\\Users\\\\alexa\\\\Desktop\\\\op_spam_dataset\\\\positive_polarity\\\\truthful_from_TripAdvisor\\\\\")\n",
    "pos_pol_deceptive = filereader(\"C:\\\\Users\\\\alexa\\\\Desktop\\\\op_spam_dataset\\\\positive_polarity\\\\deceptive_from_MTurk\\\\\")"
   ]
  },
  {
   "cell_type": "code",
   "execution_count": 22,
   "metadata": {},
   "outputs": [
    {
     "name": "stdout",
     "output_type": "stream",
     "text": [
      "964.32\n",
      "543.616685129216\n"
     ]
    }
   ],
   "source": [
    "newlist = []\n",
    "for i in neg_pol_truthful:\n",
    "    newlist += [len(i)]\n",
    "from statistics import stdev, mean\n",
    "\n",
    "print(mean(newlist))\n",
    "print(stdev(newlist))"
   ]
  },
  {
   "cell_type": "code",
   "execution_count": 3,
   "metadata": {},
   "outputs": [],
   "source": [
    "# Mukherjee et. al (2013) - Yelp Hotel dataset\n",
    "df = pd.read_csv(r'C:\\Users\\alexa\\Desktop\\YelpReviews.csv')\n",
    "df = df.sample(frac=1).reset_index(drop=True) #shuffle and reset index\n",
    "\n",
    "#creating deceptive lists\n",
    "deceptive = df[df['flagged']=='Y']\n",
    "pos_dec = deceptive[deceptive['rating'] > 2]\n",
    "neg_dec = deceptive[deceptive['rating'] < 3] \n",
    "pos_pol_deceptive = [str(review) for review in pos_dec['reviewContent']]\n",
    "pos_pol_deceptive = [review.replace(u'\\xa0', u' ') for review in pos_pol_deceptive]\n",
    "neg_pol_deceptive = [str(review) for review in neg_dec['reviewContent']]\n",
    "neg_pol_deceptive = [review.replace(u'\\xa0', u' ') for review in neg_pol_deceptive]\n",
    "\n",
    "# creating truthful lists\n",
    "truthful = df[df['flagged']=='N'][:780] #shuffled before, so random selection for balanced dataset\n",
    "pos_tru = truthful[truthful['rating'] > 2]\n",
    "neg_tru = truthful[truthful['rating'] < 3]\n",
    "pos_pol_truthful = [str(review) for review in pos_tru['reviewContent']]\n",
    "pos_pol_truthful = [review.replace(u'\\xa0', u' ') for review in pos_pol_truthful]\n",
    "neg_pol_truthful = [str(review) for review in neg_tru['reviewContent']]\n",
    "neg_pol_truthful = [review.replace(u'\\xa0', u' ') for review in neg_pol_truthful]"
   ]
  },
  {
   "cell_type": "code",
   "execution_count": 9,
   "metadata": {},
   "outputs": [
    {
     "name": "stdout",
     "output_type": "stream",
     "text": [
      "311\n",
      "271\n",
      "489\n",
      "529\n"
     ]
    }
   ],
   "source": [
    "print(len(neg_pol_deceptive))\n",
    "print(len(neg_pol_truthful))\n",
    "print(len(pos_pol_deceptive))\n",
    "print(len(pos_pol_truthful))"
   ]
  },
  {
   "cell_type": "code",
   "execution_count": 8,
   "metadata": {},
   "outputs": [],
   "source": [
    "# Rayana (2015) - Yelp Restaurant dataset\n",
    "\n",
    "#importing content\n",
    "file = open(\"reviewContent\", \"rb\")\n",
    "content = file.readlines()\n",
    "newlist = []\n",
    "for file in content[:5000]:\n",
    "    decoded = file.decode(\"utf-8\")\n",
    "    splitted = decoded.split('\\t')\n",
    "    splitted[3].replace(u'\\xa0', u' ')\n",
    "    newlist += [splitted]\n",
    "    \n",
    "#importing labels\n",
    "file2 = open(\"metadata\", \"rb\")\n",
    "content2 = file2.readlines()\n",
    "newlist2 = []\n",
    "for file in content2[:5000]:\n",
    "    decoded = file.decode(\"utf-8\")\n",
    "    splitted = decoded.split('\\t')\n",
    "    newlist2 += [splitted]\n",
    "\n",
    "#creating dataframe\n",
    "df = pd.DataFrame(newlist)\n",
    "df = df.drop([0,1,2], 1)\n",
    "df.columns = ['content']\n",
    "\n",
    "df2 = pd.DataFrame(newlist2)\n",
    "df2 = df2.drop([0,1,4], 1)\n",
    "df2.columns = ['rating', 'label']\n",
    "df = df.join(df2)\n",
    "df = df.sample(frac=1).reset_index(drop=True) #shuffle and reset index\n",
    "df = df.astype({\"rating\": float})\n",
    "\n",
    "#creating deceptive lists\n",
    "deceptive = df.loc[df['label'] == '-1'][:800] #shuffles before, so random\n",
    "pos_dec = deceptive[deceptive['rating'] > 2]\n",
    "neg_dec = deceptive[deceptive['rating'] < 3] \n",
    "pos_pol_deceptive = [str(review) for review in pos_dec['content']]\n",
    "neg_pol_deceptive = [str(review) for review in neg_dec['content']]\n",
    "\n",
    "# creating truthful lists\n",
    "truthful = df.loc[df['label'] == '1'][:800]\n",
    "pos_tru = truthful[truthful['rating'] > 2]\n",
    "neg_tru = truthful[truthful['rating'] < 3]\n",
    "pos_pol_truthful = [str(review) for review in pos_tru['content']]\n",
    "neg_pol_truthful = [str(review) for review in neg_tru['content']]"
   ]
  },
  {
   "cell_type": "markdown",
   "metadata": {},
   "source": [
    "**PREPROCESSING**"
   ]
  },
  {
   "cell_type": "code",
   "execution_count": 221,
   "metadata": {},
   "outputs": [],
   "source": [
    "import nltk\n",
    "from nltk.corpus import stopwords\n",
    "from nltk.stem import WordNetLemmatizer\n",
    "from random import shuffle"
   ]
  },
  {
   "cell_type": "code",
   "execution_count": 222,
   "metadata": {},
   "outputs": [],
   "source": [
    "def preprocessing(text, pos_tags=False):\n",
    "    # tokenize into words\n",
    "    tokens = [word for sent in nltk.sent_tokenize(text) for word in nltk.word_tokenize(sent)]   \n",
    "\n",
    "    # remove stopwords\n",
    "    stop = stopwords.words('english')\n",
    "    tokens = [token for token in tokens if token not in stop]\n",
    "\n",
    "    # remove words less than three characters\n",
    "    tokens = [word for word in tokens if len(word) >= 3]\n",
    "\n",
    "    # remove capitalization\n",
    "    tokens = [word.lower() for word in tokens]\n",
    "\n",
    "    # lemmatizing\n",
    "    lmtzr = WordNetLemmatizer()\n",
    "    tokens = [lmtzr.lemmatize(word) for word in tokens]\n",
    "\n",
    "    # includes POS_tags\n",
    "    if pos_tags:\n",
    "        tokens = nltk.pos_tag(tokens)\n",
    "        tokens = ['_'.join(t) for t in tokens]\n",
    "    \n",
    "    preprocessed_text= ' '.join(tokens)\n",
    "\n",
    "    return preprocessed_text \n",
    "\n",
    "def preprocesser(list_of_texts): # turning lists into preprocessed lists\n",
    "    new = []\n",
    "    for item in list_of_texts:\n",
    "        new += [preprocessing(item)]\n",
    "    return new"
   ]
  },
  {
   "cell_type": "code",
   "execution_count": 223,
   "metadata": {},
   "outputs": [],
   "source": [
    "# Creating X1\n",
    "X1_neg_truthful = [r for r in preprocesser(neg_pol_truthful)]\n",
    "X1_neg_deceptive = [r for r in preprocesser(neg_pol_deceptive)]\n",
    "X1_pos_truthful = [r for r in preprocesser(pos_pol_truthful)]\n",
    "X1_pos_deceptive = [r for r in preprocesser(pos_pol_deceptive)]"
   ]
  },
  {
   "cell_type": "code",
   "execution_count": 224,
   "metadata": {},
   "outputs": [
    {
     "name": "stdout",
     "output_type": "stream",
     "text": [
      "243\n",
      "557\n",
      "319\n",
      "481\n"
     ]
    }
   ],
   "source": [
    "print(len(X1_neg_truthful))\n",
    "print(len(X1_pos_truthful))\n",
    "print(len(X1_neg_deceptive))\n",
    "print(len(X1_pos_deceptive))"
   ]
  },
  {
   "cell_type": "markdown",
   "metadata": {},
   "source": [
    "**CREATING X2**"
   ]
  },
  {
   "cell_type": "code",
   "execution_count": 225,
   "metadata": {},
   "outputs": [],
   "source": [
    "negpoltruth = [(1,item) for item in X1_neg_truthful]\n",
    "pospoltruth = [(0,item) for item in X1_pos_truthful]\n",
    "negpoldecep = [(1,item) for item in X1_neg_deceptive]\n",
    "pospoldecep = [(0,item) for item in X1_pos_deceptive]"
   ]
  },
  {
   "cell_type": "code",
   "execution_count": 226,
   "metadata": {},
   "outputs": [],
   "source": [
    "all_files_labeled = negpoltruth + pospoltruth + negpoldecep + pospoldecep\n",
    "all_files = neg_pol_truthful + pos_pol_truthful + neg_pol_deceptive + pos_pol_deceptive"
   ]
  },
  {
   "cell_type": "code",
   "execution_count": 227,
   "metadata": {},
   "outputs": [],
   "source": [
    "polarity_values = [item[0] for item in all_files_labeled]"
   ]
  },
  {
   "cell_type": "code",
   "execution_count": 228,
   "metadata": {},
   "outputs": [],
   "source": [
    "no_words = [len(item.split()) for item in all_files]"
   ]
  },
  {
   "cell_type": "code",
   "execution_count": 229,
   "metadata": {},
   "outputs": [],
   "source": [
    "no_unique_words = [len(set(item.split())) for item in all_files]"
   ]
  },
  {
   "cell_type": "code",
   "execution_count": 230,
   "metadata": {},
   "outputs": [],
   "source": [
    "no_sentences = [len(item.split('. ')) for item in all_files]"
   ]
  },
  {
   "cell_type": "code",
   "execution_count": 231,
   "metadata": {},
   "outputs": [],
   "source": [
    "avg_no_words_per_sentence = []\n",
    "for item in all_files:\n",
    "    temp = []\n",
    "    sentences = item.split('. ')\n",
    "    for item in sentences:\n",
    "        temp += [len(item.split())]\n",
    "    avg_no_words_per_sentence += [mean(temp)]"
   ]
  },
  {
   "cell_type": "code",
   "execution_count": 232,
   "metadata": {},
   "outputs": [],
   "source": [
    "no_digits_per_word = []\n",
    "for item in all_files:\n",
    "    temp = []\n",
    "    words = item.split()\n",
    "    for item in words:\n",
    "        temp += [len(item)]\n",
    "    no_digits_per_word += [mean(temp)]"
   ]
  },
  {
   "cell_type": "code",
   "execution_count": 233,
   "metadata": {},
   "outputs": [
    {
     "data": {
      "text/html": [
       "<div>\n",
       "<style scoped>\n",
       "    .dataframe tbody tr th:only-of-type {\n",
       "        vertical-align: middle;\n",
       "    }\n",
       "\n",
       "    .dataframe tbody tr th {\n",
       "        vertical-align: top;\n",
       "    }\n",
       "\n",
       "    .dataframe thead th {\n",
       "        text-align: right;\n",
       "    }\n",
       "</style>\n",
       "<table border=\"1\" class=\"dataframe\">\n",
       "  <thead>\n",
       "    <tr style=\"text-align: right;\">\n",
       "      <th></th>\n",
       "      <th>polarity</th>\n",
       "      <th>no_words</th>\n",
       "      <th>no_unique_words</th>\n",
       "      <th>no_sentences</th>\n",
       "      <th>avg_no_words_per_sentence</th>\n",
       "      <th>no_digits_per_word</th>\n",
       "    </tr>\n",
       "  </thead>\n",
       "  <tbody>\n",
       "    <tr>\n",
       "      <th>0</th>\n",
       "      <td>1</td>\n",
       "      <td>173</td>\n",
       "      <td>116</td>\n",
       "      <td>9</td>\n",
       "      <td>19.222222</td>\n",
       "      <td>4.416185</td>\n",
       "    </tr>\n",
       "    <tr>\n",
       "      <th>1</th>\n",
       "      <td>1</td>\n",
       "      <td>39</td>\n",
       "      <td>37</td>\n",
       "      <td>3</td>\n",
       "      <td>13.000000</td>\n",
       "      <td>5.256410</td>\n",
       "    </tr>\n",
       "    <tr>\n",
       "      <th>2</th>\n",
       "      <td>1</td>\n",
       "      <td>188</td>\n",
       "      <td>126</td>\n",
       "      <td>17</td>\n",
       "      <td>11.058824</td>\n",
       "      <td>4.239362</td>\n",
       "    </tr>\n",
       "    <tr>\n",
       "      <th>3</th>\n",
       "      <td>1</td>\n",
       "      <td>69</td>\n",
       "      <td>56</td>\n",
       "      <td>3</td>\n",
       "      <td>23.000000</td>\n",
       "      <td>4.768116</td>\n",
       "    </tr>\n",
       "    <tr>\n",
       "      <th>4</th>\n",
       "      <td>1</td>\n",
       "      <td>242</td>\n",
       "      <td>164</td>\n",
       "      <td>20</td>\n",
       "      <td>12.100000</td>\n",
       "      <td>4.541322</td>\n",
       "    </tr>\n",
       "  </tbody>\n",
       "</table>\n",
       "</div>"
      ],
      "text/plain": [
       "   polarity  no_words  no_unique_words  no_sentences  \\\n",
       "0         1       173              116             9   \n",
       "1         1        39               37             3   \n",
       "2         1       188              126            17   \n",
       "3         1        69               56             3   \n",
       "4         1       242              164            20   \n",
       "\n",
       "   avg_no_words_per_sentence  no_digits_per_word  \n",
       "0                  19.222222            4.416185  \n",
       "1                  13.000000            5.256410  \n",
       "2                  11.058824            4.239362  \n",
       "3                  23.000000            4.768116  \n",
       "4                  12.100000            4.541322  "
      ]
     },
     "execution_count": 233,
     "metadata": {},
     "output_type": "execute_result"
    }
   ],
   "source": [
    "DFX2 = pd.DataFrame(\n",
    "    {'polarity': polarity_values,\n",
    "     'no_words': no_words,\n",
    "     'no_unique_words': no_unique_words,\n",
    "     'no_sentences': no_sentences,\n",
    "     'avg_no_words_per_sentence': avg_no_words_per_sentence,\n",
    "     'no_digits_per_word': no_digits_per_word\n",
    "    })\n",
    "DFX2.head()"
   ]
  },
  {
   "cell_type": "code",
   "execution_count": 234,
   "metadata": {},
   "outputs": [],
   "source": [
    "#creating X2\n",
    "X2 = DFX2.to_numpy()\n",
    "\n",
    "# X2_neg_truthful = X2[:400]     # DATASET 1\n",
    "# X2_pos_truthful = X2[400:800]\n",
    "# X2_neg_deceptive = X2[800:1200]\n",
    "# X2_pos_deceptive = X2[1200:]\n",
    "\n",
    "# X2_neg_truthful = X2[:160]        # DATASET 2\n",
    "# X2_pol_truthful = X2[160:780]\n",
    "# X2_neg_deceptive = X2[780:1064]\n",
    "# X2_pos_deceptive = X2[1064:]\n",
    "\n",
    "X2_neg_truthful = X2[:len(X1_neg_truthful)]        # all datasets\n",
    "X2_pos_truthful = X2[len(X1_neg_truthful):(len(X1_neg_truthful) + len(X1_pos_truthful))]\n",
    "X2_neg_deceptive = X2[(len(X1_neg_truthful) + len(X1_pos_truthful)):(len(X1_neg_truthful) + len(X1_pos_truthful) + len(X1_neg_deceptive))]\n",
    "X2_pos_deceptive = X2[(len(X1_neg_truthful) + len(X1_pos_truthful) + len(X1_neg_deceptive)):]\n"
   ]
  },
  {
   "cell_type": "code",
   "execution_count": 235,
   "metadata": {},
   "outputs": [],
   "source": [
    "# combining X1 and X2 and labelling data: 0 for truthful, 1 for deceptive\n",
    "corpus_neg_truthful = [(X1_neg_truthful[i],X2_neg_truthful[i],0) for i in range(len(X1_neg_truthful))]\n",
    "corpus_neg_deceptive = [(X1_neg_deceptive[i],X2_neg_deceptive[i],1) for i in range(len(X1_neg_deceptive))]\n",
    "corpus_pos_truthful = [(X1_pos_truthful[i],X2_pos_truthful[i],0) for i in range(len(X1_pos_truthful))]\n",
    "corpus_pos_deceptive = [(X1_pos_deceptive[i],X2_pos_deceptive[i],1) for i in range(len(X1_pos_deceptive))]"
   ]
  },
  {
   "cell_type": "code",
   "execution_count": 236,
   "metadata": {},
   "outputs": [],
   "source": [
    "corpus = corpus_neg_truthful+corpus_neg_deceptive+corpus_pos_truthful+corpus_pos_deceptive"
   ]
  },
  {
   "cell_type": "markdown",
   "metadata": {},
   "source": [
    "**CO-TRAINING**"
   ]
  },
  {
   "cell_type": "code",
   "execution_count": 237,
   "metadata": {},
   "outputs": [],
   "source": [
    "from sklearn.feature_extraction.text import CountVectorizer, TfidfVectorizer\n",
    "from co_training.sklearn_cotraining.classifiers import *\n",
    "from sklearn.svm import SVC\n",
    "from sklearn.naive_bayes import MultinomialNB\n",
    "from sklearn.ensemble import RandomForestClassifier\n",
    "from sklearn.feature_selection import chi2\n",
    "from sklearn.model_selection import cross_val_score, cross_validate, KFold\n",
    "from sklearn.metrics import classification_report, confusion_matrix, accuracy_score, recall_score, precision_score, f1_score\n",
    "from statistics import mean, stdev\n",
    "from datetime import datetime"
   ]
  },
  {
   "cell_type": "code",
   "execution_count": 238,
   "metadata": {},
   "outputs": [],
   "source": [
    "# shuffle data and unpack X1 and X2\n",
    "from random import shuffle\n",
    "shuffle(corpus)\n",
    "X1 = [x1 for x1,x2,l in corpus]\n",
    "X2 = [x2 for x1,x2,l in corpus]\n",
    "X2 = [l.tolist() for l in X2]\n",
    "X2 = np.array(X2) #formatting\n",
    "labels_y = [l for x1,x2,l in corpus]"
   ]
  },
  {
   "cell_type": "code",
   "execution_count": 241,
   "metadata": {},
   "outputs": [],
   "source": [
    "def main_cotraining_CV(ratio, vectorizertype, ngram, nsplits, X1=X1):\n",
    "   \n",
    "    \"\"\"\n",
    "    Main function with cross-validation included\n",
    "    Parameters:\n",
    "        ratio (number of labels to remove) = float (0.80 / 0.90 / 0.95)\n",
    "        vectorizertype (word counts or TF-IDF values) = CountVectorizer / TfidfVectorizer\n",
    "        ngram (word pairs) = int (1=unigram, 2=bigram)\n",
    "        nsplits (cross validation splits) = int (number of splits)\n",
    "    \n",
    "    \"\"\"\n",
    "    # initialize results dictionary \n",
    "    CT_SVM_results = {'accuracy':[], '1':{'precision':[], 'recall':[], 'f1-score':[]}}\n",
    "    CT_NB_results = {'accuracy':[], '1':{'precision':[], 'recall':[], 'f1-score':[]}}    \n",
    "    CT_RF_results = {'accuracy':[],'1':{'precision':[], 'recall':[], 'f1-score':[]}}\n",
    "\n",
    "    # creating dataframe \n",
    "    vectorizer = vectorizertype(min_df=2, max_df=0.5, ngram_range=(1,ngram))\n",
    "    X = vectorizer.fit_transform(X1)\n",
    "    DF = pd.DataFrame(X.todense(),columns=vectorizer.get_feature_names())\n",
    "    DF['Y'] = labels_y\n",
    "    X = DF.drop('Y', axis=1)\n",
    "    y = DF['Y']\n",
    "\n",
    "    # feature selection\n",
    "    def chi_square(X, y): \n",
    "        F, pval = chi2(X, y) \n",
    "        return F\n",
    "    def feature_ranking(F):\n",
    "        idx = np.argsort(F)\n",
    "        return idx[::-1]\n",
    "    df = pd.DataFrame(feature_ranking(chi_square(X,y)))\n",
    "    df.columns = ['column_numbers']\n",
    "    clms_toselect = df['column_numbers'].head(1000)\n",
    "    a = [DF.columns[i] for i in clms_toselect]\n",
    "    X1 = DF[a]\n",
    "    X1 = X1.to_numpy()\n",
    "    \n",
    "    # random splits X1a and X1b\n",
    "    np.random.shuffle(np.transpose(X1))\n",
    "    X1_split = np.hsplit(X1, 2)\n",
    "    X1a = X1_split[0]\n",
    "    X1b = X1_split[1]\n",
    "\n",
    "    # initialize base classifiers \n",
    "    if ratio == 0.95:\n",
    "        SVM = SVC(probability=True, kernel='rbf', gamma='scale', C=4)\n",
    "    elif ratio == 0.90:\n",
    "        SVM = SVC(probability=True, kernel='rbf', gamma='scale', C=9)\n",
    "    elif ratio == 0.80:\n",
    "        SVM = SVC(probability=True, kernel='rbf', gamma='scale', C=4)\n",
    "    else:\n",
    "        SVM = SVC(probability=True, kernel='rbf', gamma='scale', C=9)\n",
    "    \n",
    "    if ratio == 0.95:\n",
    "        NB = MultinomialNB(alpha=0.2)\n",
    "    elif ratio == 0.90:\n",
    "        NB = MultinomialNB(alpha=0.7)\n",
    "    elif ratio == 0.80:\n",
    "        NB = MultinomialNB(alpha=0.4)\n",
    "    else:\n",
    "        NB = MultinomialNB(alpha=0.7)\n",
    "        \n",
    "        \n",
    "    if ratio == 0.95:\n",
    "        RF = RandomForestClassifier(n_estimators=150, max_depth=120, min_samples_split=30)\n",
    "    elif ratio == 0.90:\n",
    "        RF = RandomForestClassifier(n_estimators=150, max_depth=90, min_samples_split=40)\n",
    "    elif ratio == 0.80:\n",
    "        RF = RandomForestClassifier(n_estimators=150, max_depth=140, min_samples_split=30)\n",
    "    else:\n",
    "        RF = RandomForestClassifier(n_estimators=150, max_depth=30, min_samples_split=20)   \n",
    "        \n",
    "    # KFold crossvalidation\n",
    "    kf = KFold(n_splits=nsplits, shuffle=False)\n",
    "    for train_index, test_index, in kf.split(X1):\n",
    "        X1_train, X1_test = X1[train_index], X1[test_index]     # pick X1a or X1\n",
    "        X2_train, X2_test = X2[train_index], X2[test_index]     # pick X1b or X2\n",
    "        y_train, y_test = y[train_index], y[test_index]\n",
    "\n",
    "        # removing labels    \n",
    "        rng = np.random.RandomState(42) \n",
    "        random_unlabeled_points = rng.rand(len(y_train)) < ratio\n",
    "        labels = np.copy(y_train)\n",
    "        labels[random_unlabeled_points] = -1\n",
    "        y_train = labels\n",
    "\n",
    "        # train models\n",
    "        cotraining_model_SVM = CoTrainingClassifier(SVM)\n",
    "        cotraining_model_SVM.fit(X1_train, X2_train, y_train)\n",
    "\n",
    "        cotraining_model_NB = CoTrainingClassifier(NB)\n",
    "        cotraining_model_NB.fit(X1_train, X2_train, y_train)\n",
    "\n",
    "        cotraining_model_RF = CoTrainingClassifier(RF)\n",
    "        cotraining_model_RF.fit(X1_train, X2_train, y_train)\n",
    "\n",
    "        # evaluate models\n",
    "        y_pred_SVM = cotraining_model_SVM.predict(X1_test, X2_test)\n",
    "        y_pred_NB = cotraining_model_NB.predict(X1_test, X2_test)\n",
    "        y_pred_RF = cotraining_model_RF.predict(X1_test, X2_test)\n",
    "        \n",
    "        report = classification_report(y_test,y_pred_SVM, output_dict=True)\n",
    "        CT_SVM_results['accuracy'] += [report['accuracy']] \n",
    "        CT_SVM_results['1']['precision'] += [report['1']['precision']]\n",
    "        CT_SVM_results['1']['recall'] += [report['1']['recall']]\n",
    "        CT_SVM_results['1']['f1-score'] += [report['1']['f1-score']]\n",
    "   \n",
    "        report = classification_report(y_test,y_pred_NB, output_dict=True)      \n",
    "        CT_NB_results['accuracy'] += [report['accuracy']]\n",
    "        CT_NB_results['1']['precision'] += [report['1']['precision']]\n",
    "        CT_NB_results['1']['recall'] += [report['1']['recall']]\n",
    "        CT_NB_results['1']['f1-score'] += [report['1']['f1-score']]\n",
    "\n",
    "        report = classification_report(y_test,y_pred_RF, output_dict=True)   \n",
    "        CT_RF_results['accuracy'] += [report['accuracy']] \n",
    "        CT_RF_results['1']['precision'] += [report['1']['precision']]\n",
    "        CT_RF_results['1']['recall'] += [report['1']['recall']]\n",
    "        CT_RF_results['1']['f1-score'] += [report['1']['f1-score']]\n",
    "\n",
    "    with open('Co_Training_results_dataset3.txt', 'a') as file:\n",
    "        file.write('___ratio:' + str(ratio) + '|ngram:' + str(ngram) + '|vectorizer:'+ str(vectorizertype) + '___\\n')\n",
    "        file.write('SVM:\\n')\n",
    "        file.write('accuracy: ' + str(round(mean(CT_SVM_results['accuracy']),2)) + '\\n')\n",
    "        file.write('stddev: ' + str(stdev(CT_SVM_results['accuracy'])) + '\\n')\n",
    "        file.write('precision: ' + str(round(mean(CT_SVM_results['1']['precision']),2)) + '\\n')\n",
    "        file.write('recall: ' + str(round(mean(CT_SVM_results['1']['recall']),2)) + '\\n')\n",
    "        file.write('F1 :' + str(round(mean(CT_SVM_results['1']['f1-score']),2)) + '\\n\\n')\n",
    "\n",
    "        file.write('NB:\\n')        \n",
    "        file.write('accuracy: ' + str(round(mean(CT_NB_results['accuracy']),2)) + '\\n')\n",
    "        file.write('stddev: ' + str(stdev(CT_NB_results['accuracy'])) + '\\n')\n",
    "        file.write('precision: ' + str(round(mean(CT_NB_results['1']['precision']),2)) + '\\n')\n",
    "        file.write('recall: ' + str(round(mean(CT_NB_results['1']['recall']),2)) + '\\n')\n",
    "        file.write('F1 :' + str(round(mean(CT_NB_results['1']['f1-score']),2)) + '\\n\\n')\n",
    "        \n",
    "        file.write('RF:\\n')        \n",
    "        file.write('accuracy: ' + str(round(mean(CT_RF_results['accuracy']),2)) + '\\n')\n",
    "        file.write('stddev: ' + str(stdev(CT_RF_results['accuracy'])) + '\\n')\n",
    "        file.write('precision: ' + str(round(mean(CT_RF_results['1']['precision']),2)) + '\\n')\n",
    "        file.write('recall: ' + str(round(mean(CT_RF_results['1']['recall']),2)) + '\\n')\n",
    "        file.write('F1 :' + str(round(mean(CT_RF_results['1']['f1-score']),2)) + '\\n\\n')\n",
    "        obj = datetime.now()\n",
    "        file.write(str(obj) + '\\n\\n\\n')"
   ]
  },
  {
   "cell_type": "code",
   "execution_count": 242,
   "metadata": {},
   "outputs": [
    {
     "name": "stdout",
     "output_type": "stream",
     "text": [
      "4\n",
      "5\n",
      "6\n",
      "7\n",
      "8\n",
      "9\n"
     ]
    }
   ],
   "source": [
    "main_cotraining_CV(ratio=0.80, vectorizertype=CountVectorizer, ngram=2, nsplits=5)\n",
    "print(4)\n",
    "main_cotraining_CV(ratio=0.90, vectorizertype=CountVectorizer, ngram=2, nsplits=5)\n",
    "print(5)\n",
    "main_cotraining_CV(ratio=0.95, vectorizertype=CountVectorizer, ngram=2, nsplits=5)\n",
    "print(6)\n",
    "main_cotraining_CV(ratio=0.80, vectorizertype=TfidfVectorizer, ngram=2, nsplits=5)\n",
    "print(7)\n",
    "main_cotraining_CV(ratio=0.90, vectorizertype=TfidfVectorizer, ngram=2, nsplits=5)\n",
    "print(8)\n",
    "main_cotraining_CV(ratio=0.95, vectorizertype=TfidfVectorizer, ngram=2, nsplits=5)\n",
    "print(9)"
   ]
  },
  {
   "cell_type": "code",
   "execution_count": 240,
   "metadata": {},
   "outputs": [
    {
     "name": "stdout",
     "output_type": "stream",
     "text": [
      "4\n",
      "5\n",
      "6\n"
     ]
    }
   ],
   "source": [
    "main_cotraining_CV(ratio=0.80, vectorizertype=CountVectorizer, ngram=2, nsplits=5)\n",
    "print(4)\n",
    "main_cotraining_CV(ratio=0.90, vectorizertype=CountVectorizer, ngram=2, nsplits=5)\n",
    "print(5)\n",
    "main_cotraining_CV(ratio=0.95, vectorizertype=CountVectorizer, ngram=2, nsplits=5)\n",
    "print(6)"
   ]
  },
  {
   "cell_type": "code",
   "execution_count": null,
   "metadata": {},
   "outputs": [],
   "source": []
  }
 ],
 "metadata": {
  "kernelspec": {
   "display_name": "Python 3",
   "language": "python",
   "name": "python3"
  },
  "language_info": {
   "codemirror_mode": {
    "name": "ipython",
    "version": 3
   },
   "file_extension": ".py",
   "mimetype": "text/x-python",
   "name": "python",
   "nbconvert_exporter": "python",
   "pygments_lexer": "ipython3",
   "version": "3.6.10"
  }
 },
 "nbformat": 4,
 "nbformat_minor": 2
}
