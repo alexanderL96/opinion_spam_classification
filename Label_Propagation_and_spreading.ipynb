{
 "cells": [
  {
   "cell_type": "code",
   "execution_count": 1,
   "metadata": {},
   "outputs": [],
   "source": [
    "import sklearn\n",
    "import os \n",
    "import pandas as pd\n",
    "import numpy as np"
   ]
  },
  {
   "cell_type": "markdown",
   "metadata": {},
   "source": [
    "**IMPORTING FILES**"
   ]
  },
  {
   "cell_type": "code",
   "execution_count": 2,
   "metadata": {},
   "outputs": [],
   "source": [
    "#reads files and creates list\n",
    "def filereader(path):\n",
    "    list_of_comments = []\n",
    "    all_files = os.listdir(path)\n",
    "    for folder in all_files:\n",
    "        files = os.listdir(path+folder)\n",
    "        for file in files:\n",
    "            pathname = path+folder+'\\\\'+file\n",
    "            file = open(pathname, 'r')\n",
    "            list_of_comments.append(file.readline())\n",
    "    return list_of_comments"
   ]
  },
  {
   "cell_type": "code",
   "execution_count": 4,
   "metadata": {},
   "outputs": [],
   "source": [
    "# Ott et. al (2011) - MTurk Hotel dataset\n",
    "neg_pol_truthful = filereader(\"C:\\\\Users\\\\alexa\\\\Desktop\\\\op_spam_dataset\\\\negative_polarity\\\\truthful_from_Web\\\\\")\n",
    "neg_pol_deceptive = filereader(\"C:\\\\Users\\\\alexa\\\\Desktop\\\\op_spam_dataset\\\\negative_polarity\\\\deceptive_from_MTurk\\\\\")\n",
    "pos_pol_truthful = filereader(\"C:\\\\Users\\\\alexa\\\\Desktop\\\\op_spam_dataset\\\\positive_polarity\\\\truthful_from_TripAdvisor\\\\\")\n",
    "pos_pol_deceptive = filereader(\"C:\\\\Users\\\\alexa\\\\Desktop\\\\op_spam_dataset\\\\positive_polarity\\\\deceptive_from_MTurk\\\\\")"
   ]
  },
  {
   "cell_type": "code",
   "execution_count": 3,
   "metadata": {},
   "outputs": [],
   "source": [
    "# Mukherjee et. al (2013) - Yelp Hotel dataset\n",
    "df = pd.read_csv(r'C:\\Users\\alexa\\Desktop\\YelpReviews.csv')\n",
    "df = df.sample(frac=1).reset_index(drop=True) #shuffle and reset index\n",
    "\n",
    "#creating deceptive lists\n",
    "deceptive = df[df['flagged']=='Y']\n",
    "pos_dec = deceptive[deceptive['rating'] > 2]\n",
    "neg_dec = deceptive[deceptive['rating'] < 3] \n",
    "pos_pol_deceptive = [str(review) for review in pos_dec['reviewContent']]\n",
    "pos_pol_deceptive = [review.replace(u'\\xa0', u' ') for review in pos_pol_deceptive]\n",
    "neg_pol_deceptive = [str(review) for review in neg_dec['reviewContent']]\n",
    "neg_pol_deceptive = [review.replace(u'\\xa0', u' ') for review in neg_pol_deceptive]\n",
    "\n",
    "# creating truthful lists\n",
    "truthful = df[df['flagged']=='N'][:780] #shuffled before, so random selection for balanced dataset\n",
    "pos_tru = truthful[truthful['rating'] > 2]\n",
    "neg_tru = truthful[truthful['rating'] < 3]\n",
    "pos_pol_truthful = [str(review) for review in pos_tru['reviewContent']]\n",
    "pos_pol_truthful = [review.replace(u'\\xa0', u' ') for review in pos_pol_truthful]\n",
    "neg_pol_truthful = [str(review) for review in neg_tru['reviewContent']]\n",
    "neg_pol_truthful = [review.replace(u'\\xa0', u' ') for review in neg_pol_truthful]"
   ]
  },
  {
   "cell_type": "code",
   "execution_count": 11,
   "metadata": {},
   "outputs": [],
   "source": [
    "# Rayana (2015) - Yelp Restaurant dataset\n",
    "\n",
    "#importing content\n",
    "file = open(\"reviewContent\", \"rb\")\n",
    "content = file.readlines()\n",
    "newlist = []\n",
    "for file in content[:5000]:\n",
    "    decoded = file.decode(\"utf-8\")\n",
    "    splitted = decoded.split('\\t')\n",
    "    splitted[3].replace(u'\\xa0', u' ')\n",
    "    newlist += [splitted]\n",
    "    \n",
    "#importing labels\n",
    "file2 = open(\"metadata\", \"rb\")\n",
    "content2 = file2.readlines()\n",
    "newlist2 = []\n",
    "for file in content2[:5000]:\n",
    "    decoded = file.decode(\"utf-8\")\n",
    "    splitted = decoded.split('\\t')\n",
    "    newlist2 += [splitted]\n",
    "\n",
    "#creating dataframe\n",
    "df = pd.DataFrame(newlist)\n",
    "df = df.drop([0,1,2], 1)\n",
    "df.columns = ['content']\n",
    "\n",
    "df2 = pd.DataFrame(newlist2)\n",
    "df2 = df2.drop([0,1,4], 1)\n",
    "df2.columns = ['rating', 'label']\n",
    "df = df.join(df2)\n",
    "df = df.sample(frac=1).reset_index(drop=True) #shuffle and reset index\n",
    "df = df.astype({\"rating\": float})\n",
    "\n",
    "#creating deceptive lists\n",
    "deceptive = df.loc[df['label'] == '-1'][:800] #shuffles before, so random\n",
    "pos_dec = deceptive[deceptive['rating'] > 2]\n",
    "neg_dec = deceptive[deceptive['rating'] < 3] \n",
    "pos_pol_deceptive = [str(review) for review in pos_dec['content']]\n",
    "neg_pol_deceptive = [str(review) for review in neg_dec['content']]\n",
    "\n",
    "# creating truthful lists\n",
    "truthful = df.loc[df['label'] == '1'][:800]\n",
    "pos_tru = truthful[truthful['rating'] > 2]\n",
    "neg_tru = truthful[truthful['rating'] < 3]\n",
    "pos_pol_truthful = [str(review) for review in pos_tru['content']]\n",
    "neg_pol_truthful = [str(review) for review in neg_tru['content']]"
   ]
  },
  {
   "cell_type": "markdown",
   "metadata": {},
   "source": [
    "**PREPROCESSING**"
   ]
  },
  {
   "cell_type": "code",
   "execution_count": 12,
   "metadata": {},
   "outputs": [],
   "source": [
    "import nltk\n",
    "from nltk.corpus import stopwords\n",
    "from nltk.stem import WordNetLemmatizer\n",
    "from random import shuffle"
   ]
  },
  {
   "cell_type": "code",
   "execution_count": 13,
   "metadata": {},
   "outputs": [],
   "source": [
    "def preprocessing(text, pos_tags=False):\n",
    "    # tokenize into words\n",
    "    tokens = [word for sent in nltk.sent_tokenize(text) for word in nltk.word_tokenize(sent)]   \n",
    "\n",
    "    # remove stopwords\n",
    "    stop = stopwords.words('english')\n",
    "    tokens = [token for token in tokens if token not in stop]\n",
    "\n",
    "    # remove words less than three characters\n",
    "    tokens = [word for word in tokens if len(word) >= 3]\n",
    "\n",
    "    # remove capitalization\n",
    "    tokens = [word.lower() for word in tokens]\n",
    "\n",
    "    # lemmatizing\n",
    "    lmtzr = WordNetLemmatizer()\n",
    "    tokens = [lmtzr.lemmatize(word) for word in tokens]\n",
    "\n",
    "    # includes POS_tags\n",
    "    if pos_tags:\n",
    "        tokens = nltk.pos_tag(tokens)\n",
    "        tokens = ['_'.join(t) for t in tokens]\n",
    "    \n",
    "    preprocessed_text= ' '.join(tokens)\n",
    "\n",
    "    return preprocessed_text \n",
    "\n",
    "def preprocesser(list_of_texts): # turning lists into preprocessed lists\n",
    "    new = []\n",
    "    for item in list_of_texts:\n",
    "        new += [preprocessing(item)]\n",
    "    return new"
   ]
  },
  {
   "cell_type": "code",
   "execution_count": 14,
   "metadata": {},
   "outputs": [],
   "source": [
    "# labelling data: 0 for truthful, 1 for deceptive\n",
    "corpus_neg_truthful = [(r,0) for r in preprocesser(neg_pol_truthful)]\n",
    "corpus_neg_deceptive = [(r,1) for r in preprocesser(neg_pol_deceptive)]\n",
    "corpus_pos_truthful = [(r,0) for r in preprocesser(pos_pol_truthful)]\n",
    "corpus_pos_deceptive = [(r,1) for r in preprocesser(pos_pol_deceptive)]"
   ]
  },
  {
   "cell_type": "code",
   "execution_count": 15,
   "metadata": {},
   "outputs": [],
   "source": [
    "# shuffle data instances\n",
    "from random import shuffle\n",
    "corpus = corpus_neg_truthful+corpus_neg_deceptive+corpus_pos_truthful+corpus_pos_deceptive\n",
    "shuffle(corpus)\n",
    "reviews = [r for r,l in corpus]\n",
    "labels_y = [l for r,l in corpus]"
   ]
  },
  {
   "cell_type": "markdown",
   "metadata": {},
   "source": [
    "**LABEL PROPAGATION**"
   ]
  },
  {
   "cell_type": "code",
   "execution_count": 16,
   "metadata": {},
   "outputs": [],
   "source": [
    "from sklearn.feature_extraction.text import CountVectorizer, TfidfVectorizer\n",
    "from sklearn.semi_supervised import LabelPropagation, LabelSpreading\n",
    "from sklearn.svm import SVC\n",
    "from sklearn.naive_bayes import MultinomialNB\n",
    "from sklearn.ensemble import RandomForestClassifier\n",
    "from sklearn.feature_selection import chi2\n",
    "from sklearn.model_selection import cross_val_score, cross_validate, KFold\n",
    "from sklearn.metrics import classification_report, confusion_matrix, accuracy_score, recall_score, precision_score, f1_score\n",
    "from statistics import mean, stdev\n",
    "from datetime import datetime"
   ]
  },
  {
   "cell_type": "code",
   "execution_count": 17,
   "metadata": {},
   "outputs": [],
   "source": [
    "def main_labelX_CV(ratio, vectorizertype, ngram, nsplits):\n",
    "   \n",
    "    \"\"\"\n",
    "    Main function with cross-validation included\n",
    "    Parameters:\n",
    "        ratio (number of labels to remove) = float (0.80 / 0.90 / 0.95)\n",
    "        vectorizertype (word counts or TF-IDF values) = CountVectorizer / TfidfVectorizer\n",
    "        ngram (word pairs) = int (1=unigram, 2=bigram)\n",
    "        nsplits (cross validation splits) = int (number of splits)\n",
    "    \n",
    "    \"\"\"\n",
    "    # initialize results dictionary     \n",
    "    LP_results = {'accuracy':[], '1':{'precision':[], 'recall':[], 'f1-score':[]}}\n",
    "    LS_results = {'accuracy':[], '1':{'precision':[], 'recall':[], 'f1-score':[]}}\n",
    "    \n",
    "    \n",
    "    # creating dataframe \n",
    "    vectorizer = vectorizertype(min_df=2, max_df=0.5, ngram_range=(1,ngram))\n",
    "    X = vectorizer.fit_transform(reviews)\n",
    "    DF = pd.DataFrame(X.todense(),columns=vectorizer.get_feature_names())\n",
    "    DF['Y'] = labels_y\n",
    "    X = DF.drop('Y', axis=1)\n",
    "    y = DF['Y']\n",
    "    \n",
    "    # feature selection\n",
    "    def chi_square(X, y): \n",
    "        F, pval = chi2(X, y) \n",
    "        return F\n",
    "    def feature_ranking(F):\n",
    "        idx = np.argsort(F)\n",
    "        return idx[::-1]\n",
    "    df = pd.DataFrame(feature_ranking(chi_square(X,y)))\n",
    "    df.columns = ['column_numbers']\n",
    "    clms_toselect = df['column_numbers'].head(1000)\n",
    "    a = [DF.columns[i] for i in clms_toselect]\n",
    "    X = DF[a]\n",
    "    X = X.to_numpy()\n",
    "    \n",
    "    # KFold crossvalidation\n",
    "    kf = KFold(n_splits=nsplits, shuffle=False)\n",
    "    for train_index, test_index in kf.split(X):\n",
    "        X_train, X_test = X[train_index], X[test_index]\n",
    "        y_train, y_test = y[train_index], y[test_index]\n",
    "        \n",
    "        # removing labels    \n",
    "        rng = np.random.RandomState(42) \n",
    "        random_unlabeled_points = rng.rand(len(y_train)) < ratio # % ratio KNOB\n",
    "        labels = np.copy(y_train)\n",
    "        labels[random_unlabeled_points] = -1\n",
    "        y_train = labels\n",
    "\n",
    "        # train models\n",
    "        if ratio == 0.95:\n",
    "            label_prop_model = LabelPropagation(kernel='knn', n_neighbors=10) \n",
    "            label_spread_model = LabelSpreading(kernel='knn', n_neighbors=30) \n",
    "        elif ratio == 0.90:\n",
    "            label_prop_model = LabelPropagation(kernel='knn', n_neighbors=200) \n",
    "            label_spread_model = LabelSpreading(kernel='knn', n_neighbors=200)\n",
    "        elif ratio == 0.80:\n",
    "            label_prop_model = LabelPropagation(kernel='knn', n_neighbors=50) \n",
    "            label_spread_model = LabelSpreading(kernel='knn', n_neighbors=150)\n",
    "        else:\n",
    "            label_prop_model = LabelPropagation(kernel='knn', n_neighbors=200) \n",
    "            label_spread_model = LabelSpreading(kernel='knn', n_neighbors=200)\n",
    "        \n",
    "                \n",
    "        label_prop_model.fit(X_train, y_train)          \n",
    "        label_spread_model.fit(X_train, y_train)\n",
    "\n",
    "        # evaluate models\n",
    "        y_pred_LP = label_prop_model.predict(X_test)\n",
    "        y_pred_LS = label_spread_model.predict(X_test)\n",
    "        \n",
    "        report = classification_report(y_test,y_pred_LP, output_dict=True)\n",
    "        LP_results['accuracy'] += [report['accuracy']]\n",
    "        LP_results['1']['precision'] += [report['1']['precision']]\n",
    "        LP_results['1']['recall'] += [report['1']['recall']]\n",
    "        LP_results['1']['f1-score'] += [report['1']['f1-score']]\n",
    "    \n",
    "        report = classification_report(y_test,y_pred_LS, output_dict=True)     \n",
    "        LS_results['accuracy'] += [report['accuracy']]\n",
    "        LS_results['1']['precision'] += [report['1']['precision']]\n",
    "        LS_results['1']['recall'] += [report['1']['recall']]\n",
    "        LS_results['1']['f1-score'] += [report['1']['f1-score']]\n",
    "\n",
    "    with open('Label_Prop_Spread_results_dataset3.txt', 'a') as file:\n",
    "        file.write('___ratio:' + str(ratio) + '|ngram:' + str(ngram) + '|vectorizer:'+ str(vectorizertype) + '___\\n')\n",
    "        file.write('Label Propagation:\\n')\n",
    "        file.write('accuracy: ' + str(round(mean(LP_results['accuracy']),2)) + '\\n')\n",
    "        file.write('stddev: ' + str(stdev(LP_results['accuracy'])) + '\\n')\n",
    "        file.write('precision: ' + str(round(mean(LP_results['1']['precision']),2)) + '\\n')\n",
    "        file.write('recall: ' + str(round(mean(LP_results['1']['recall']),2)) + '\\n')\n",
    "        file.write('F1 :' + str(round(mean(LP_results['1']['f1-score']),2)) + '\\n\\n')\n",
    "\n",
    "        file.write('Label Spreading:\\n')        \n",
    "        file.write('accuracy: ' + str(round(mean(LS_results['accuracy']),2)) + '\\n')\n",
    "        file.write('stddev: ' + str(stdev(LS_results['accuracy'])) + '\\n')\n",
    "        file.write('precision: ' + str(round(mean(LS_results['1']['precision']),2)) + '\\n')\n",
    "        file.write('recall: ' + str(round(mean(LS_results['1']['recall']),2)) + '\\n')\n",
    "        file.write('F1 :' + str(round(mean(LS_results['1']['f1-score']),2)) + '\\n\\n')\n",
    "        obj = datetime.now()\n",
    "        file.write(str(obj) + '\\n\\n\\n')"
   ]
  },
  {
   "cell_type": "code",
   "execution_count": 10,
   "metadata": {},
   "outputs": [
    {
     "name": "stderr",
     "output_type": "stream",
     "text": [
      "C:\\Users\\alexa\\Anaconda3\\lib\\site-packages\\sklearn\\metrics\\_classification.py:1221: UndefinedMetricWarning: Precision and F-score are ill-defined and being set to 0.0 in labels with no predicted samples. Use `zero_division` parameter to control this behavior.\n",
      "  _warn_prf(average, modifier, msg_start, len(result))\n",
      "C:\\Users\\alexa\\Anaconda3\\lib\\site-packages\\sklearn\\metrics\\_classification.py:1221: UndefinedMetricWarning: Precision and F-score are ill-defined and being set to 0.0 in labels with no predicted samples. Use `zero_division` parameter to control this behavior.\n",
      "  _warn_prf(average, modifier, msg_start, len(result))\n",
      "C:\\Users\\alexa\\Anaconda3\\lib\\site-packages\\sklearn\\metrics\\_classification.py:1221: UndefinedMetricWarning: Precision and F-score are ill-defined and being set to 0.0 in labels with no predicted samples. Use `zero_division` parameter to control this behavior.\n",
      "  _warn_prf(average, modifier, msg_start, len(result))\n",
      "C:\\Users\\alexa\\Anaconda3\\lib\\site-packages\\sklearn\\metrics\\_classification.py:1221: UndefinedMetricWarning: Precision and F-score are ill-defined and being set to 0.0 in labels with no predicted samples. Use `zero_division` parameter to control this behavior.\n",
      "  _warn_prf(average, modifier, msg_start, len(result))\n",
      "C:\\Users\\alexa\\Anaconda3\\lib\\site-packages\\sklearn\\metrics\\_classification.py:1221: UndefinedMetricWarning: Precision and F-score are ill-defined and being set to 0.0 in labels with no predicted samples. Use `zero_division` parameter to control this behavior.\n",
      "  _warn_prf(average, modifier, msg_start, len(result))\n"
     ]
    },
    {
     "name": "stdout",
     "output_type": "stream",
     "text": [
      "1\n"
     ]
    },
    {
     "name": "stderr",
     "output_type": "stream",
     "text": [
      "C:\\Users\\alexa\\Anaconda3\\lib\\site-packages\\sklearn\\metrics\\_classification.py:1221: UndefinedMetricWarning: Precision and F-score are ill-defined and being set to 0.0 in labels with no predicted samples. Use `zero_division` parameter to control this behavior.\n",
      "  _warn_prf(average, modifier, msg_start, len(result))\n",
      "C:\\Users\\alexa\\Anaconda3\\lib\\site-packages\\sklearn\\metrics\\_classification.py:1221: UndefinedMetricWarning: Precision and F-score are ill-defined and being set to 0.0 in labels with no predicted samples. Use `zero_division` parameter to control this behavior.\n",
      "  _warn_prf(average, modifier, msg_start, len(result))\n",
      "C:\\Users\\alexa\\Anaconda3\\lib\\site-packages\\sklearn\\metrics\\_classification.py:1221: UndefinedMetricWarning: Precision and F-score are ill-defined and being set to 0.0 in labels with no predicted samples. Use `zero_division` parameter to control this behavior.\n",
      "  _warn_prf(average, modifier, msg_start, len(result))\n",
      "C:\\Users\\alexa\\Anaconda3\\lib\\site-packages\\sklearn\\metrics\\_classification.py:1221: UndefinedMetricWarning: Precision and F-score are ill-defined and being set to 0.0 in labels with no predicted samples. Use `zero_division` parameter to control this behavior.\n",
      "  _warn_prf(average, modifier, msg_start, len(result))\n",
      "C:\\Users\\alexa\\Anaconda3\\lib\\site-packages\\sklearn\\metrics\\_classification.py:1221: UndefinedMetricWarning: Precision and F-score are ill-defined and being set to 0.0 in labels with no predicted samples. Use `zero_division` parameter to control this behavior.\n",
      "  _warn_prf(average, modifier, msg_start, len(result))\n"
     ]
    },
    {
     "name": "stdout",
     "output_type": "stream",
     "text": [
      "2\n"
     ]
    },
    {
     "name": "stderr",
     "output_type": "stream",
     "text": [
      "C:\\Users\\alexa\\Anaconda3\\lib\\site-packages\\sklearn\\semi_supervised\\_label_propagation.py:281: RuntimeWarning: invalid value encountered in true_divide\n",
      "  self.label_distributions_ /= normalizer\n",
      "C:\\Users\\alexa\\Anaconda3\\lib\\site-packages\\sklearn\\semi_supervised\\_label_propagation.py:292: ConvergenceWarning: max_iter=1000 was reached without convergence.\n",
      "  category=ConvergenceWarning\n",
      "C:\\Users\\alexa\\Anaconda3\\lib\\site-packages\\sklearn\\metrics\\_classification.py:1221: UndefinedMetricWarning: Precision and F-score are ill-defined and being set to 0.0 in labels with no predicted samples. Use `zero_division` parameter to control this behavior.\n",
      "  _warn_prf(average, modifier, msg_start, len(result))\n",
      "C:\\Users\\alexa\\Anaconda3\\lib\\site-packages\\sklearn\\semi_supervised\\_label_propagation.py:281: RuntimeWarning: invalid value encountered in true_divide\n",
      "  self.label_distributions_ /= normalizer\n",
      "C:\\Users\\alexa\\Anaconda3\\lib\\site-packages\\sklearn\\semi_supervised\\_label_propagation.py:292: ConvergenceWarning: max_iter=1000 was reached without convergence.\n",
      "  category=ConvergenceWarning\n",
      "C:\\Users\\alexa\\Anaconda3\\lib\\site-packages\\sklearn\\metrics\\_classification.py:1221: UndefinedMetricWarning: Precision and F-score are ill-defined and being set to 0.0 in labels with no predicted samples. Use `zero_division` parameter to control this behavior.\n",
      "  _warn_prf(average, modifier, msg_start, len(result))\n",
      "C:\\Users\\alexa\\Anaconda3\\lib\\site-packages\\sklearn\\semi_supervised\\_label_propagation.py:281: RuntimeWarning: invalid value encountered in true_divide\n",
      "  self.label_distributions_ /= normalizer\n",
      "C:\\Users\\alexa\\Anaconda3\\lib\\site-packages\\sklearn\\semi_supervised\\_label_propagation.py:292: ConvergenceWarning: max_iter=1000 was reached without convergence.\n",
      "  category=ConvergenceWarning\n",
      "C:\\Users\\alexa\\Anaconda3\\lib\\site-packages\\sklearn\\metrics\\_classification.py:1221: UndefinedMetricWarning: Precision and F-score are ill-defined and being set to 0.0 in labels with no predicted samples. Use `zero_division` parameter to control this behavior.\n",
      "  _warn_prf(average, modifier, msg_start, len(result))\n",
      "C:\\Users\\alexa\\Anaconda3\\lib\\site-packages\\sklearn\\semi_supervised\\_label_propagation.py:281: RuntimeWarning: invalid value encountered in true_divide\n",
      "  self.label_distributions_ /= normalizer\n",
      "C:\\Users\\alexa\\Anaconda3\\lib\\site-packages\\sklearn\\semi_supervised\\_label_propagation.py:292: ConvergenceWarning: max_iter=1000 was reached without convergence.\n",
      "  category=ConvergenceWarning\n",
      "C:\\Users\\alexa\\Anaconda3\\lib\\site-packages\\sklearn\\metrics\\_classification.py:1221: UndefinedMetricWarning: Precision and F-score are ill-defined and being set to 0.0 in labels with no predicted samples. Use `zero_division` parameter to control this behavior.\n",
      "  _warn_prf(average, modifier, msg_start, len(result))\n",
      "C:\\Users\\alexa\\Anaconda3\\lib\\site-packages\\sklearn\\semi_supervised\\_label_propagation.py:281: RuntimeWarning: invalid value encountered in true_divide\n",
      "  self.label_distributions_ /= normalizer\n",
      "C:\\Users\\alexa\\Anaconda3\\lib\\site-packages\\sklearn\\semi_supervised\\_label_propagation.py:292: ConvergenceWarning: max_iter=1000 was reached without convergence.\n",
      "  category=ConvergenceWarning\n",
      "C:\\Users\\alexa\\Anaconda3\\lib\\site-packages\\sklearn\\metrics\\_classification.py:1221: UndefinedMetricWarning: Precision and F-score are ill-defined and being set to 0.0 in labels with no predicted samples. Use `zero_division` parameter to control this behavior.\n",
      "  _warn_prf(average, modifier, msg_start, len(result))\n"
     ]
    },
    {
     "name": "stdout",
     "output_type": "stream",
     "text": [
      "3\n"
     ]
    },
    {
     "name": "stderr",
     "output_type": "stream",
     "text": [
      "C:\\Users\\alexa\\Anaconda3\\lib\\site-packages\\sklearn\\metrics\\_classification.py:1221: UndefinedMetricWarning: Precision and F-score are ill-defined and being set to 0.0 in labels with no predicted samples. Use `zero_division` parameter to control this behavior.\n",
      "  _warn_prf(average, modifier, msg_start, len(result))\n",
      "C:\\Users\\alexa\\Anaconda3\\lib\\site-packages\\sklearn\\metrics\\_classification.py:1221: UndefinedMetricWarning: Precision and F-score are ill-defined and being set to 0.0 in labels with no predicted samples. Use `zero_division` parameter to control this behavior.\n",
      "  _warn_prf(average, modifier, msg_start, len(result))\n",
      "C:\\Users\\alexa\\Anaconda3\\lib\\site-packages\\sklearn\\metrics\\_classification.py:1221: UndefinedMetricWarning: Precision and F-score are ill-defined and being set to 0.0 in labels with no predicted samples. Use `zero_division` parameter to control this behavior.\n",
      "  _warn_prf(average, modifier, msg_start, len(result))\n",
      "C:\\Users\\alexa\\Anaconda3\\lib\\site-packages\\sklearn\\metrics\\_classification.py:1221: UndefinedMetricWarning: Precision and F-score are ill-defined and being set to 0.0 in labels with no predicted samples. Use `zero_division` parameter to control this behavior.\n",
      "  _warn_prf(average, modifier, msg_start, len(result))\n",
      "C:\\Users\\alexa\\Anaconda3\\lib\\site-packages\\sklearn\\metrics\\_classification.py:1221: UndefinedMetricWarning: Precision and F-score are ill-defined and being set to 0.0 in labels with no predicted samples. Use `zero_division` parameter to control this behavior.\n",
      "  _warn_prf(average, modifier, msg_start, len(result))\n"
     ]
    },
    {
     "name": "stdout",
     "output_type": "stream",
     "text": [
      "4\n"
     ]
    },
    {
     "name": "stderr",
     "output_type": "stream",
     "text": [
      "C:\\Users\\alexa\\Anaconda3\\lib\\site-packages\\sklearn\\metrics\\_classification.py:1221: UndefinedMetricWarning: Precision and F-score are ill-defined and being set to 0.0 in labels with no predicted samples. Use `zero_division` parameter to control this behavior.\n",
      "  _warn_prf(average, modifier, msg_start, len(result))\n",
      "C:\\Users\\alexa\\Anaconda3\\lib\\site-packages\\sklearn\\metrics\\_classification.py:1221: UndefinedMetricWarning: Precision and F-score are ill-defined and being set to 0.0 in labels with no predicted samples. Use `zero_division` parameter to control this behavior.\n",
      "  _warn_prf(average, modifier, msg_start, len(result))\n",
      "C:\\Users\\alexa\\Anaconda3\\lib\\site-packages\\sklearn\\metrics\\_classification.py:1221: UndefinedMetricWarning: Precision and F-score are ill-defined and being set to 0.0 in labels with no predicted samples. Use `zero_division` parameter to control this behavior.\n",
      "  _warn_prf(average, modifier, msg_start, len(result))\n",
      "C:\\Users\\alexa\\Anaconda3\\lib\\site-packages\\sklearn\\metrics\\_classification.py:1221: UndefinedMetricWarning: Precision and F-score are ill-defined and being set to 0.0 in labels with no predicted samples. Use `zero_division` parameter to control this behavior.\n",
      "  _warn_prf(average, modifier, msg_start, len(result))\n",
      "C:\\Users\\alexa\\Anaconda3\\lib\\site-packages\\sklearn\\metrics\\_classification.py:1221: UndefinedMetricWarning: Precision and F-score are ill-defined and being set to 0.0 in labels with no predicted samples. Use `zero_division` parameter to control this behavior.\n",
      "  _warn_prf(average, modifier, msg_start, len(result))\n"
     ]
    },
    {
     "name": "stdout",
     "output_type": "stream",
     "text": [
      "5\n"
     ]
    },
    {
     "name": "stderr",
     "output_type": "stream",
     "text": [
      "C:\\Users\\alexa\\Anaconda3\\lib\\site-packages\\sklearn\\semi_supervised\\_label_propagation.py:281: RuntimeWarning: invalid value encountered in true_divide\n",
      "  self.label_distributions_ /= normalizer\n",
      "C:\\Users\\alexa\\Anaconda3\\lib\\site-packages\\sklearn\\semi_supervised\\_label_propagation.py:292: ConvergenceWarning: max_iter=1000 was reached without convergence.\n",
      "  category=ConvergenceWarning\n",
      "C:\\Users\\alexa\\Anaconda3\\lib\\site-packages\\sklearn\\metrics\\_classification.py:1221: UndefinedMetricWarning: Precision and F-score are ill-defined and being set to 0.0 in labels with no predicted samples. Use `zero_division` parameter to control this behavior.\n",
      "  _warn_prf(average, modifier, msg_start, len(result))\n",
      "C:\\Users\\alexa\\Anaconda3\\lib\\site-packages\\sklearn\\semi_supervised\\_label_propagation.py:281: RuntimeWarning: invalid value encountered in true_divide\n",
      "  self.label_distributions_ /= normalizer\n",
      "C:\\Users\\alexa\\Anaconda3\\lib\\site-packages\\sklearn\\semi_supervised\\_label_propagation.py:292: ConvergenceWarning: max_iter=1000 was reached without convergence.\n",
      "  category=ConvergenceWarning\n",
      "C:\\Users\\alexa\\Anaconda3\\lib\\site-packages\\sklearn\\metrics\\_classification.py:1221: UndefinedMetricWarning: Precision and F-score are ill-defined and being set to 0.0 in labels with no predicted samples. Use `zero_division` parameter to control this behavior.\n",
      "  _warn_prf(average, modifier, msg_start, len(result))\n",
      "C:\\Users\\alexa\\Anaconda3\\lib\\site-packages\\sklearn\\semi_supervised\\_label_propagation.py:281: RuntimeWarning: invalid value encountered in true_divide\n",
      "  self.label_distributions_ /= normalizer\n",
      "C:\\Users\\alexa\\Anaconda3\\lib\\site-packages\\sklearn\\semi_supervised\\_label_propagation.py:292: ConvergenceWarning: max_iter=1000 was reached without convergence.\n",
      "  category=ConvergenceWarning\n",
      "C:\\Users\\alexa\\Anaconda3\\lib\\site-packages\\sklearn\\metrics\\_classification.py:1221: UndefinedMetricWarning: Precision and F-score are ill-defined and being set to 0.0 in labels with no predicted samples. Use `zero_division` parameter to control this behavior.\n",
      "  _warn_prf(average, modifier, msg_start, len(result))\n",
      "C:\\Users\\alexa\\Anaconda3\\lib\\site-packages\\sklearn\\semi_supervised\\_label_propagation.py:281: RuntimeWarning: invalid value encountered in true_divide\n",
      "  self.label_distributions_ /= normalizer\n",
      "C:\\Users\\alexa\\Anaconda3\\lib\\site-packages\\sklearn\\semi_supervised\\_label_propagation.py:292: ConvergenceWarning: max_iter=1000 was reached without convergence.\n",
      "  category=ConvergenceWarning\n",
      "C:\\Users\\alexa\\Anaconda3\\lib\\site-packages\\sklearn\\metrics\\_classification.py:1221: UndefinedMetricWarning: Precision and F-score are ill-defined and being set to 0.0 in labels with no predicted samples. Use `zero_division` parameter to control this behavior.\n",
      "  _warn_prf(average, modifier, msg_start, len(result))\n",
      "C:\\Users\\alexa\\Anaconda3\\lib\\site-packages\\sklearn\\semi_supervised\\_label_propagation.py:281: RuntimeWarning: invalid value encountered in true_divide\n",
      "  self.label_distributions_ /= normalizer\n",
      "C:\\Users\\alexa\\Anaconda3\\lib\\site-packages\\sklearn\\semi_supervised\\_label_propagation.py:292: ConvergenceWarning: max_iter=1000 was reached without convergence.\n",
      "  category=ConvergenceWarning\n",
      "C:\\Users\\alexa\\Anaconda3\\lib\\site-packages\\sklearn\\metrics\\_classification.py:1221: UndefinedMetricWarning: Precision and F-score are ill-defined and being set to 0.0 in labels with no predicted samples. Use `zero_division` parameter to control this behavior.\n",
      "  _warn_prf(average, modifier, msg_start, len(result))\n"
     ]
    },
    {
     "name": "stdout",
     "output_type": "stream",
     "text": [
      "6\n"
     ]
    },
    {
     "name": "stderr",
     "output_type": "stream",
     "text": [
      "C:\\Users\\alexa\\Anaconda3\\lib\\site-packages\\sklearn\\metrics\\_classification.py:1221: UndefinedMetricWarning: Precision and F-score are ill-defined and being set to 0.0 in labels with no predicted samples. Use `zero_division` parameter to control this behavior.\n",
      "  _warn_prf(average, modifier, msg_start, len(result))\n",
      "C:\\Users\\alexa\\Anaconda3\\lib\\site-packages\\sklearn\\metrics\\_classification.py:1221: UndefinedMetricWarning: Precision and F-score are ill-defined and being set to 0.0 in labels with no predicted samples. Use `zero_division` parameter to control this behavior.\n",
      "  _warn_prf(average, modifier, msg_start, len(result))\n",
      "C:\\Users\\alexa\\Anaconda3\\lib\\site-packages\\sklearn\\metrics\\_classification.py:1221: UndefinedMetricWarning: Precision and F-score are ill-defined and being set to 0.0 in labels with no predicted samples. Use `zero_division` parameter to control this behavior.\n",
      "  _warn_prf(average, modifier, msg_start, len(result))\n",
      "C:\\Users\\alexa\\Anaconda3\\lib\\site-packages\\sklearn\\metrics\\_classification.py:1221: UndefinedMetricWarning: Precision and F-score are ill-defined and being set to 0.0 in labels with no predicted samples. Use `zero_division` parameter to control this behavior.\n",
      "  _warn_prf(average, modifier, msg_start, len(result))\n",
      "C:\\Users\\alexa\\Anaconda3\\lib\\site-packages\\sklearn\\metrics\\_classification.py:1221: UndefinedMetricWarning: Precision and F-score are ill-defined and being set to 0.0 in labels with no predicted samples. Use `zero_division` parameter to control this behavior.\n",
      "  _warn_prf(average, modifier, msg_start, len(result))\n"
     ]
    },
    {
     "name": "stdout",
     "output_type": "stream",
     "text": [
      "7\n"
     ]
    },
    {
     "name": "stderr",
     "output_type": "stream",
     "text": [
      "C:\\Users\\alexa\\Anaconda3\\lib\\site-packages\\sklearn\\metrics\\_classification.py:1221: UndefinedMetricWarning: Precision and F-score are ill-defined and being set to 0.0 in labels with no predicted samples. Use `zero_division` parameter to control this behavior.\n",
      "  _warn_prf(average, modifier, msg_start, len(result))\n",
      "C:\\Users\\alexa\\Anaconda3\\lib\\site-packages\\sklearn\\metrics\\_classification.py:1221: UndefinedMetricWarning: Precision and F-score are ill-defined and being set to 0.0 in labels with no predicted samples. Use `zero_division` parameter to control this behavior.\n",
      "  _warn_prf(average, modifier, msg_start, len(result))\n",
      "C:\\Users\\alexa\\Anaconda3\\lib\\site-packages\\sklearn\\metrics\\_classification.py:1221: UndefinedMetricWarning: Precision and F-score are ill-defined and being set to 0.0 in labels with no predicted samples. Use `zero_division` parameter to control this behavior.\n",
      "  _warn_prf(average, modifier, msg_start, len(result))\n",
      "C:\\Users\\alexa\\Anaconda3\\lib\\site-packages\\sklearn\\metrics\\_classification.py:1221: UndefinedMetricWarning: Precision and F-score are ill-defined and being set to 0.0 in labels with no predicted samples. Use `zero_division` parameter to control this behavior.\n",
      "  _warn_prf(average, modifier, msg_start, len(result))\n",
      "C:\\Users\\alexa\\Anaconda3\\lib\\site-packages\\sklearn\\metrics\\_classification.py:1221: UndefinedMetricWarning: Precision and F-score are ill-defined and being set to 0.0 in labels with no predicted samples. Use `zero_division` parameter to control this behavior.\n",
      "  _warn_prf(average, modifier, msg_start, len(result))\n"
     ]
    },
    {
     "name": "stdout",
     "output_type": "stream",
     "text": [
      "8\n"
     ]
    },
    {
     "name": "stderr",
     "output_type": "stream",
     "text": [
      "C:\\Users\\alexa\\Anaconda3\\lib\\site-packages\\sklearn\\semi_supervised\\_label_propagation.py:281: RuntimeWarning: invalid value encountered in true_divide\n",
      "  self.label_distributions_ /= normalizer\n",
      "C:\\Users\\alexa\\Anaconda3\\lib\\site-packages\\sklearn\\semi_supervised\\_label_propagation.py:292: ConvergenceWarning: max_iter=1000 was reached without convergence.\n",
      "  category=ConvergenceWarning\n",
      "C:\\Users\\alexa\\Anaconda3\\lib\\site-packages\\sklearn\\metrics\\_classification.py:1221: UndefinedMetricWarning: Precision and F-score are ill-defined and being set to 0.0 in labels with no predicted samples. Use `zero_division` parameter to control this behavior.\n",
      "  _warn_prf(average, modifier, msg_start, len(result))\n",
      "C:\\Users\\alexa\\Anaconda3\\lib\\site-packages\\sklearn\\semi_supervised\\_label_propagation.py:281: RuntimeWarning: invalid value encountered in true_divide\n",
      "  self.label_distributions_ /= normalizer\n",
      "C:\\Users\\alexa\\Anaconda3\\lib\\site-packages\\sklearn\\semi_supervised\\_label_propagation.py:292: ConvergenceWarning: max_iter=1000 was reached without convergence.\n",
      "  category=ConvergenceWarning\n",
      "C:\\Users\\alexa\\Anaconda3\\lib\\site-packages\\sklearn\\metrics\\_classification.py:1221: UndefinedMetricWarning: Precision and F-score are ill-defined and being set to 0.0 in labels with no predicted samples. Use `zero_division` parameter to control this behavior.\n",
      "  _warn_prf(average, modifier, msg_start, len(result))\n",
      "C:\\Users\\alexa\\Anaconda3\\lib\\site-packages\\sklearn\\semi_supervised\\_label_propagation.py:281: RuntimeWarning: invalid value encountered in true_divide\n",
      "  self.label_distributions_ /= normalizer\n",
      "C:\\Users\\alexa\\Anaconda3\\lib\\site-packages\\sklearn\\semi_supervised\\_label_propagation.py:292: ConvergenceWarning: max_iter=1000 was reached without convergence.\n",
      "  category=ConvergenceWarning\n",
      "C:\\Users\\alexa\\Anaconda3\\lib\\site-packages\\sklearn\\metrics\\_classification.py:1221: UndefinedMetricWarning: Precision and F-score are ill-defined and being set to 0.0 in labels with no predicted samples. Use `zero_division` parameter to control this behavior.\n",
      "  _warn_prf(average, modifier, msg_start, len(result))\n",
      "C:\\Users\\alexa\\Anaconda3\\lib\\site-packages\\sklearn\\semi_supervised\\_label_propagation.py:281: RuntimeWarning: invalid value encountered in true_divide\n",
      "  self.label_distributions_ /= normalizer\n",
      "C:\\Users\\alexa\\Anaconda3\\lib\\site-packages\\sklearn\\semi_supervised\\_label_propagation.py:292: ConvergenceWarning: max_iter=1000 was reached without convergence.\n",
      "  category=ConvergenceWarning\n",
      "C:\\Users\\alexa\\Anaconda3\\lib\\site-packages\\sklearn\\metrics\\_classification.py:1221: UndefinedMetricWarning: Precision and F-score are ill-defined and being set to 0.0 in labels with no predicted samples. Use `zero_division` parameter to control this behavior.\n",
      "  _warn_prf(average, modifier, msg_start, len(result))\n",
      "C:\\Users\\alexa\\Anaconda3\\lib\\site-packages\\sklearn\\semi_supervised\\_label_propagation.py:281: RuntimeWarning: invalid value encountered in true_divide\n",
      "  self.label_distributions_ /= normalizer\n",
      "C:\\Users\\alexa\\Anaconda3\\lib\\site-packages\\sklearn\\semi_supervised\\_label_propagation.py:292: ConvergenceWarning: max_iter=1000 was reached without convergence.\n",
      "  category=ConvergenceWarning\n"
     ]
    },
    {
     "name": "stdout",
     "output_type": "stream",
     "text": [
      "9\n"
     ]
    },
    {
     "name": "stderr",
     "output_type": "stream",
     "text": [
      "C:\\Users\\alexa\\Anaconda3\\lib\\site-packages\\sklearn\\metrics\\_classification.py:1221: UndefinedMetricWarning: Precision and F-score are ill-defined and being set to 0.0 in labels with no predicted samples. Use `zero_division` parameter to control this behavior.\n",
      "  _warn_prf(average, modifier, msg_start, len(result))\n"
     ]
    }
   ],
   "source": [
    "main_labelX_CV(ratio=0.80, vectorizertype=CountVectorizer, ngram=1, nsplits=5)\n",
    "print(1)\n",
    "main_labelX_CV(ratio=0.90, vectorizertype=CountVectorizer, ngram=1, nsplits=5)\n",
    "print(2)\n",
    "main_labelX_CV(ratio=0.95, vectorizertype=CountVectorizer, ngram=1, nsplits=5)\n",
    "print(3)\n",
    "main_labelX_CV(ratio=0.80, vectorizertype=CountVectorizer, ngram=2, nsplits=5)\n",
    "print(4)\n",
    "main_labelX_CV(ratio=0.90, vectorizertype=CountVectorizer, ngram=2, nsplits=5)\n",
    "print(5)\n",
    "main_labelX_CV(ratio=0.95, vectorizertype=CountVectorizer, ngram=2, nsplits=5)\n",
    "print(6)\n",
    "main_labelX_CV(ratio=0.80, vectorizertype=TfidfVectorizer, ngram=2, nsplits=5)\n",
    "print(7)\n",
    "main_labelX_CV(ratio=0.90, vectorizertype=TfidfVectorizer, ngram=2, nsplits=5)\n",
    "print(8)\n",
    "main_labelX_CV(ratio=0.95, vectorizertype=TfidfVectorizer, ngram=2, nsplits=5)\n",
    "print(9)"
   ]
  },
  {
   "cell_type": "code",
   "execution_count": 18,
   "metadata": {},
   "outputs": [
    {
     "name": "stderr",
     "output_type": "stream",
     "text": [
      "C:\\Users\\alexa\\Anaconda3\\lib\\site-packages\\sklearn\\metrics\\_classification.py:1221: UndefinedMetricWarning: Precision and F-score are ill-defined and being set to 0.0 in labels with no predicted samples. Use `zero_division` parameter to control this behavior.\n",
      "  _warn_prf(average, modifier, msg_start, len(result))\n",
      "C:\\Users\\alexa\\Anaconda3\\lib\\site-packages\\sklearn\\metrics\\_classification.py:1221: UndefinedMetricWarning: Precision and F-score are ill-defined and being set to 0.0 in labels with no predicted samples. Use `zero_division` parameter to control this behavior.\n",
      "  _warn_prf(average, modifier, msg_start, len(result))\n",
      "C:\\Users\\alexa\\Anaconda3\\lib\\site-packages\\sklearn\\metrics\\_classification.py:1221: UndefinedMetricWarning: Precision and F-score are ill-defined and being set to 0.0 in labels with no predicted samples. Use `zero_division` parameter to control this behavior.\n",
      "  _warn_prf(average, modifier, msg_start, len(result))\n",
      "C:\\Users\\alexa\\Anaconda3\\lib\\site-packages\\sklearn\\metrics\\_classification.py:1221: UndefinedMetricWarning: Precision and F-score are ill-defined and being set to 0.0 in labels with no predicted samples. Use `zero_division` parameter to control this behavior.\n",
      "  _warn_prf(average, modifier, msg_start, len(result))\n",
      "C:\\Users\\alexa\\Anaconda3\\lib\\site-packages\\sklearn\\metrics\\_classification.py:1221: UndefinedMetricWarning: Precision and F-score are ill-defined and being set to 0.0 in labels with no predicted samples. Use `zero_division` parameter to control this behavior.\n",
      "  _warn_prf(average, modifier, msg_start, len(result))\n"
     ]
    },
    {
     "name": "stdout",
     "output_type": "stream",
     "text": [
      "1\n"
     ]
    },
    {
     "name": "stderr",
     "output_type": "stream",
     "text": [
      "C:\\Users\\alexa\\Anaconda3\\lib\\site-packages\\sklearn\\metrics\\_classification.py:1221: UndefinedMetricWarning: Precision and F-score are ill-defined and being set to 0.0 in labels with no predicted samples. Use `zero_division` parameter to control this behavior.\n",
      "  _warn_prf(average, modifier, msg_start, len(result))\n",
      "C:\\Users\\alexa\\Anaconda3\\lib\\site-packages\\sklearn\\metrics\\_classification.py:1221: UndefinedMetricWarning: Precision and F-score are ill-defined and being set to 0.0 in labels with no predicted samples. Use `zero_division` parameter to control this behavior.\n",
      "  _warn_prf(average, modifier, msg_start, len(result))\n",
      "C:\\Users\\alexa\\Anaconda3\\lib\\site-packages\\sklearn\\metrics\\_classification.py:1221: UndefinedMetricWarning: Precision and F-score are ill-defined and being set to 0.0 in labels with no predicted samples. Use `zero_division` parameter to control this behavior.\n",
      "  _warn_prf(average, modifier, msg_start, len(result))\n",
      "C:\\Users\\alexa\\Anaconda3\\lib\\site-packages\\sklearn\\metrics\\_classification.py:1221: UndefinedMetricWarning: Precision and F-score are ill-defined and being set to 0.0 in labels with no predicted samples. Use `zero_division` parameter to control this behavior.\n",
      "  _warn_prf(average, modifier, msg_start, len(result))\n",
      "C:\\Users\\alexa\\Anaconda3\\lib\\site-packages\\sklearn\\metrics\\_classification.py:1221: UndefinedMetricWarning: Precision and F-score are ill-defined and being set to 0.0 in labels with no predicted samples. Use `zero_division` parameter to control this behavior.\n",
      "  _warn_prf(average, modifier, msg_start, len(result))\n"
     ]
    },
    {
     "name": "stdout",
     "output_type": "stream",
     "text": [
      "2\n"
     ]
    },
    {
     "name": "stderr",
     "output_type": "stream",
     "text": [
      "C:\\Users\\alexa\\Anaconda3\\lib\\site-packages\\sklearn\\semi_supervised\\_label_propagation.py:281: RuntimeWarning: invalid value encountered in true_divide\n",
      "  self.label_distributions_ /= normalizer\n",
      "C:\\Users\\alexa\\Anaconda3\\lib\\site-packages\\sklearn\\semi_supervised\\_label_propagation.py:292: ConvergenceWarning: max_iter=1000 was reached without convergence.\n",
      "  category=ConvergenceWarning\n",
      "C:\\Users\\alexa\\Anaconda3\\lib\\site-packages\\sklearn\\metrics\\_classification.py:1221: UndefinedMetricWarning: Precision and F-score are ill-defined and being set to 0.0 in labels with no predicted samples. Use `zero_division` parameter to control this behavior.\n",
      "  _warn_prf(average, modifier, msg_start, len(result))\n",
      "C:\\Users\\alexa\\Anaconda3\\lib\\site-packages\\sklearn\\semi_supervised\\_label_propagation.py:281: RuntimeWarning: invalid value encountered in true_divide\n",
      "  self.label_distributions_ /= normalizer\n",
      "C:\\Users\\alexa\\Anaconda3\\lib\\site-packages\\sklearn\\semi_supervised\\_label_propagation.py:292: ConvergenceWarning: max_iter=1000 was reached without convergence.\n",
      "  category=ConvergenceWarning\n",
      "C:\\Users\\alexa\\Anaconda3\\lib\\site-packages\\sklearn\\metrics\\_classification.py:1221: UndefinedMetricWarning: Precision and F-score are ill-defined and being set to 0.0 in labels with no predicted samples. Use `zero_division` parameter to control this behavior.\n",
      "  _warn_prf(average, modifier, msg_start, len(result))\n",
      "C:\\Users\\alexa\\Anaconda3\\lib\\site-packages\\sklearn\\semi_supervised\\_label_propagation.py:281: RuntimeWarning: invalid value encountered in true_divide\n",
      "  self.label_distributions_ /= normalizer\n",
      "C:\\Users\\alexa\\Anaconda3\\lib\\site-packages\\sklearn\\semi_supervised\\_label_propagation.py:292: ConvergenceWarning: max_iter=1000 was reached without convergence.\n",
      "  category=ConvergenceWarning\n",
      "C:\\Users\\alexa\\Anaconda3\\lib\\site-packages\\sklearn\\semi_supervised\\_label_propagation.py:281: RuntimeWarning: invalid value encountered in true_divide\n",
      "  self.label_distributions_ /= normalizer\n",
      "C:\\Users\\alexa\\Anaconda3\\lib\\site-packages\\sklearn\\semi_supervised\\_label_propagation.py:292: ConvergenceWarning: max_iter=1000 was reached without convergence.\n",
      "  category=ConvergenceWarning\n",
      "C:\\Users\\alexa\\Anaconda3\\lib\\site-packages\\sklearn\\semi_supervised\\_label_propagation.py:281: RuntimeWarning: invalid value encountered in true_divide\n",
      "  self.label_distributions_ /= normalizer\n",
      "C:\\Users\\alexa\\Anaconda3\\lib\\site-packages\\sklearn\\semi_supervised\\_label_propagation.py:292: ConvergenceWarning: max_iter=1000 was reached without convergence.\n",
      "  category=ConvergenceWarning\n",
      "C:\\Users\\alexa\\Anaconda3\\lib\\site-packages\\sklearn\\metrics\\_classification.py:1221: UndefinedMetricWarning: Precision and F-score are ill-defined and being set to 0.0 in labels with no predicted samples. Use `zero_division` parameter to control this behavior.\n",
      "  _warn_prf(average, modifier, msg_start, len(result))\n"
     ]
    },
    {
     "name": "stdout",
     "output_type": "stream",
     "text": [
      "3\n"
     ]
    },
    {
     "name": "stderr",
     "output_type": "stream",
     "text": [
      "C:\\Users\\alexa\\Anaconda3\\lib\\site-packages\\sklearn\\metrics\\_classification.py:1221: UndefinedMetricWarning: Precision and F-score are ill-defined and being set to 0.0 in labels with no predicted samples. Use `zero_division` parameter to control this behavior.\n",
      "  _warn_prf(average, modifier, msg_start, len(result))\n",
      "C:\\Users\\alexa\\Anaconda3\\lib\\site-packages\\sklearn\\metrics\\_classification.py:1221: UndefinedMetricWarning: Precision and F-score are ill-defined and being set to 0.0 in labels with no predicted samples. Use `zero_division` parameter to control this behavior.\n",
      "  _warn_prf(average, modifier, msg_start, len(result))\n",
      "C:\\Users\\alexa\\Anaconda3\\lib\\site-packages\\sklearn\\metrics\\_classification.py:1221: UndefinedMetricWarning: Precision and F-score are ill-defined and being set to 0.0 in labels with no predicted samples. Use `zero_division` parameter to control this behavior.\n",
      "  _warn_prf(average, modifier, msg_start, len(result))\n",
      "C:\\Users\\alexa\\Anaconda3\\lib\\site-packages\\sklearn\\metrics\\_classification.py:1221: UndefinedMetricWarning: Precision and F-score are ill-defined and being set to 0.0 in labels with no predicted samples. Use `zero_division` parameter to control this behavior.\n",
      "  _warn_prf(average, modifier, msg_start, len(result))\n",
      "C:\\Users\\alexa\\Anaconda3\\lib\\site-packages\\sklearn\\metrics\\_classification.py:1221: UndefinedMetricWarning: Precision and F-score are ill-defined and being set to 0.0 in labels with no predicted samples. Use `zero_division` parameter to control this behavior.\n",
      "  _warn_prf(average, modifier, msg_start, len(result))\n"
     ]
    },
    {
     "name": "stdout",
     "output_type": "stream",
     "text": [
      "4\n"
     ]
    },
    {
     "name": "stderr",
     "output_type": "stream",
     "text": [
      "C:\\Users\\alexa\\Anaconda3\\lib\\site-packages\\sklearn\\metrics\\_classification.py:1221: UndefinedMetricWarning: Precision and F-score are ill-defined and being set to 0.0 in labels with no predicted samples. Use `zero_division` parameter to control this behavior.\n",
      "  _warn_prf(average, modifier, msg_start, len(result))\n",
      "C:\\Users\\alexa\\Anaconda3\\lib\\site-packages\\sklearn\\metrics\\_classification.py:1221: UndefinedMetricWarning: Precision and F-score are ill-defined and being set to 0.0 in labels with no predicted samples. Use `zero_division` parameter to control this behavior.\n",
      "  _warn_prf(average, modifier, msg_start, len(result))\n",
      "C:\\Users\\alexa\\Anaconda3\\lib\\site-packages\\sklearn\\metrics\\_classification.py:1221: UndefinedMetricWarning: Precision and F-score are ill-defined and being set to 0.0 in labels with no predicted samples. Use `zero_division` parameter to control this behavior.\n",
      "  _warn_prf(average, modifier, msg_start, len(result))\n",
      "C:\\Users\\alexa\\Anaconda3\\lib\\site-packages\\sklearn\\metrics\\_classification.py:1221: UndefinedMetricWarning: Precision and F-score are ill-defined and being set to 0.0 in labels with no predicted samples. Use `zero_division` parameter to control this behavior.\n",
      "  _warn_prf(average, modifier, msg_start, len(result))\n",
      "C:\\Users\\alexa\\Anaconda3\\lib\\site-packages\\sklearn\\metrics\\_classification.py:1221: UndefinedMetricWarning: Precision and F-score are ill-defined and being set to 0.0 in labels with no predicted samples. Use `zero_division` parameter to control this behavior.\n",
      "  _warn_prf(average, modifier, msg_start, len(result))\n"
     ]
    },
    {
     "name": "stdout",
     "output_type": "stream",
     "text": [
      "5\n"
     ]
    },
    {
     "name": "stderr",
     "output_type": "stream",
     "text": [
      "C:\\Users\\alexa\\Anaconda3\\lib\\site-packages\\sklearn\\semi_supervised\\_label_propagation.py:281: RuntimeWarning: invalid value encountered in true_divide\n",
      "  self.label_distributions_ /= normalizer\n",
      "C:\\Users\\alexa\\Anaconda3\\lib\\site-packages\\sklearn\\semi_supervised\\_label_propagation.py:292: ConvergenceWarning: max_iter=1000 was reached without convergence.\n",
      "  category=ConvergenceWarning\n",
      "C:\\Users\\alexa\\Anaconda3\\lib\\site-packages\\sklearn\\metrics\\_classification.py:1221: UndefinedMetricWarning: Precision and F-score are ill-defined and being set to 0.0 in labels with no predicted samples. Use `zero_division` parameter to control this behavior.\n",
      "  _warn_prf(average, modifier, msg_start, len(result))\n",
      "C:\\Users\\alexa\\Anaconda3\\lib\\site-packages\\sklearn\\semi_supervised\\_label_propagation.py:281: RuntimeWarning: invalid value encountered in true_divide\n",
      "  self.label_distributions_ /= normalizer\n",
      "C:\\Users\\alexa\\Anaconda3\\lib\\site-packages\\sklearn\\semi_supervised\\_label_propagation.py:292: ConvergenceWarning: max_iter=1000 was reached without convergence.\n",
      "  category=ConvergenceWarning\n",
      "C:\\Users\\alexa\\Anaconda3\\lib\\site-packages\\sklearn\\metrics\\_classification.py:1221: UndefinedMetricWarning: Precision and F-score are ill-defined and being set to 0.0 in labels with no predicted samples. Use `zero_division` parameter to control this behavior.\n",
      "  _warn_prf(average, modifier, msg_start, len(result))\n",
      "C:\\Users\\alexa\\Anaconda3\\lib\\site-packages\\sklearn\\semi_supervised\\_label_propagation.py:281: RuntimeWarning: invalid value encountered in true_divide\n",
      "  self.label_distributions_ /= normalizer\n",
      "C:\\Users\\alexa\\Anaconda3\\lib\\site-packages\\sklearn\\semi_supervised\\_label_propagation.py:292: ConvergenceWarning: max_iter=1000 was reached without convergence.\n",
      "  category=ConvergenceWarning\n",
      "C:\\Users\\alexa\\Anaconda3\\lib\\site-packages\\sklearn\\semi_supervised\\_label_propagation.py:281: RuntimeWarning: invalid value encountered in true_divide\n",
      "  self.label_distributions_ /= normalizer\n",
      "C:\\Users\\alexa\\Anaconda3\\lib\\site-packages\\sklearn\\semi_supervised\\_label_propagation.py:292: ConvergenceWarning: max_iter=1000 was reached without convergence.\n",
      "  category=ConvergenceWarning\n",
      "C:\\Users\\alexa\\Anaconda3\\lib\\site-packages\\sklearn\\semi_supervised\\_label_propagation.py:281: RuntimeWarning: invalid value encountered in true_divide\n",
      "  self.label_distributions_ /= normalizer\n",
      "C:\\Users\\alexa\\Anaconda3\\lib\\site-packages\\sklearn\\semi_supervised\\_label_propagation.py:292: ConvergenceWarning: max_iter=1000 was reached without convergence.\n",
      "  category=ConvergenceWarning\n",
      "C:\\Users\\alexa\\Anaconda3\\lib\\site-packages\\sklearn\\metrics\\_classification.py:1221: UndefinedMetricWarning: Precision and F-score are ill-defined and being set to 0.0 in labels with no predicted samples. Use `zero_division` parameter to control this behavior.\n",
      "  _warn_prf(average, modifier, msg_start, len(result))\n"
     ]
    },
    {
     "name": "stdout",
     "output_type": "stream",
     "text": [
      "6\n"
     ]
    },
    {
     "name": "stderr",
     "output_type": "stream",
     "text": [
      "C:\\Users\\alexa\\Anaconda3\\lib\\site-packages\\sklearn\\metrics\\_classification.py:1221: UndefinedMetricWarning: Precision and F-score are ill-defined and being set to 0.0 in labels with no predicted samples. Use `zero_division` parameter to control this behavior.\n",
      "  _warn_prf(average, modifier, msg_start, len(result))\n",
      "C:\\Users\\alexa\\Anaconda3\\lib\\site-packages\\sklearn\\metrics\\_classification.py:1221: UndefinedMetricWarning: Precision and F-score are ill-defined and being set to 0.0 in labels with no predicted samples. Use `zero_division` parameter to control this behavior.\n",
      "  _warn_prf(average, modifier, msg_start, len(result))\n",
      "C:\\Users\\alexa\\Anaconda3\\lib\\site-packages\\sklearn\\metrics\\_classification.py:1221: UndefinedMetricWarning: Precision and F-score are ill-defined and being set to 0.0 in labels with no predicted samples. Use `zero_division` parameter to control this behavior.\n",
      "  _warn_prf(average, modifier, msg_start, len(result))\n",
      "C:\\Users\\alexa\\Anaconda3\\lib\\site-packages\\sklearn\\metrics\\_classification.py:1221: UndefinedMetricWarning: Precision and F-score are ill-defined and being set to 0.0 in labels with no predicted samples. Use `zero_division` parameter to control this behavior.\n",
      "  _warn_prf(average, modifier, msg_start, len(result))\n",
      "C:\\Users\\alexa\\Anaconda3\\lib\\site-packages\\sklearn\\metrics\\_classification.py:1221: UndefinedMetricWarning: Precision and F-score are ill-defined and being set to 0.0 in labels with no predicted samples. Use `zero_division` parameter to control this behavior.\n",
      "  _warn_prf(average, modifier, msg_start, len(result))\n"
     ]
    },
    {
     "name": "stdout",
     "output_type": "stream",
     "text": [
      "7\n"
     ]
    },
    {
     "name": "stderr",
     "output_type": "stream",
     "text": [
      "C:\\Users\\alexa\\Anaconda3\\lib\\site-packages\\sklearn\\metrics\\_classification.py:1221: UndefinedMetricWarning: Precision and F-score are ill-defined and being set to 0.0 in labels with no predicted samples. Use `zero_division` parameter to control this behavior.\n",
      "  _warn_prf(average, modifier, msg_start, len(result))\n",
      "C:\\Users\\alexa\\Anaconda3\\lib\\site-packages\\sklearn\\metrics\\_classification.py:1221: UndefinedMetricWarning: Precision and F-score are ill-defined and being set to 0.0 in labels with no predicted samples. Use `zero_division` parameter to control this behavior.\n",
      "  _warn_prf(average, modifier, msg_start, len(result))\n",
      "C:\\Users\\alexa\\Anaconda3\\lib\\site-packages\\sklearn\\metrics\\_classification.py:1221: UndefinedMetricWarning: Precision and F-score are ill-defined and being set to 0.0 in labels with no predicted samples. Use `zero_division` parameter to control this behavior.\n",
      "  _warn_prf(average, modifier, msg_start, len(result))\n",
      "C:\\Users\\alexa\\Anaconda3\\lib\\site-packages\\sklearn\\metrics\\_classification.py:1221: UndefinedMetricWarning: Precision and F-score are ill-defined and being set to 0.0 in labels with no predicted samples. Use `zero_division` parameter to control this behavior.\n",
      "  _warn_prf(average, modifier, msg_start, len(result))\n",
      "C:\\Users\\alexa\\Anaconda3\\lib\\site-packages\\sklearn\\metrics\\_classification.py:1221: UndefinedMetricWarning: Precision and F-score are ill-defined and being set to 0.0 in labels with no predicted samples. Use `zero_division` parameter to control this behavior.\n",
      "  _warn_prf(average, modifier, msg_start, len(result))\n"
     ]
    },
    {
     "name": "stdout",
     "output_type": "stream",
     "text": [
      "8\n"
     ]
    },
    {
     "name": "stderr",
     "output_type": "stream",
     "text": [
      "C:\\Users\\alexa\\Anaconda3\\lib\\site-packages\\sklearn\\semi_supervised\\_label_propagation.py:281: RuntimeWarning: invalid value encountered in true_divide\n",
      "  self.label_distributions_ /= normalizer\n",
      "C:\\Users\\alexa\\Anaconda3\\lib\\site-packages\\sklearn\\semi_supervised\\_label_propagation.py:292: ConvergenceWarning: max_iter=1000 was reached without convergence.\n",
      "  category=ConvergenceWarning\n",
      "C:\\Users\\alexa\\Anaconda3\\lib\\site-packages\\sklearn\\metrics\\_classification.py:1221: UndefinedMetricWarning: Precision and F-score are ill-defined and being set to 0.0 in labels with no predicted samples. Use `zero_division` parameter to control this behavior.\n",
      "  _warn_prf(average, modifier, msg_start, len(result))\n",
      "C:\\Users\\alexa\\Anaconda3\\lib\\site-packages\\sklearn\\semi_supervised\\_label_propagation.py:281: RuntimeWarning: invalid value encountered in true_divide\n",
      "  self.label_distributions_ /= normalizer\n",
      "C:\\Users\\alexa\\Anaconda3\\lib\\site-packages\\sklearn\\semi_supervised\\_label_propagation.py:292: ConvergenceWarning: max_iter=1000 was reached without convergence.\n",
      "  category=ConvergenceWarning\n",
      "C:\\Users\\alexa\\Anaconda3\\lib\\site-packages\\sklearn\\metrics\\_classification.py:1221: UndefinedMetricWarning: Precision and F-score are ill-defined and being set to 0.0 in labels with no predicted samples. Use `zero_division` parameter to control this behavior.\n",
      "  _warn_prf(average, modifier, msg_start, len(result))\n",
      "C:\\Users\\alexa\\Anaconda3\\lib\\site-packages\\sklearn\\semi_supervised\\_label_propagation.py:281: RuntimeWarning: invalid value encountered in true_divide\n",
      "  self.label_distributions_ /= normalizer\n",
      "C:\\Users\\alexa\\Anaconda3\\lib\\site-packages\\sklearn\\semi_supervised\\_label_propagation.py:292: ConvergenceWarning: max_iter=1000 was reached without convergence.\n",
      "  category=ConvergenceWarning\n",
      "C:\\Users\\alexa\\Anaconda3\\lib\\site-packages\\sklearn\\metrics\\_classification.py:1221: UndefinedMetricWarning: Precision and F-score are ill-defined and being set to 0.0 in labels with no predicted samples. Use `zero_division` parameter to control this behavior.\n",
      "  _warn_prf(average, modifier, msg_start, len(result))\n",
      "C:\\Users\\alexa\\Anaconda3\\lib\\site-packages\\sklearn\\semi_supervised\\_label_propagation.py:281: RuntimeWarning: invalid value encountered in true_divide\n",
      "  self.label_distributions_ /= normalizer\n",
      "C:\\Users\\alexa\\Anaconda3\\lib\\site-packages\\sklearn\\semi_supervised\\_label_propagation.py:292: ConvergenceWarning: max_iter=1000 was reached without convergence.\n",
      "  category=ConvergenceWarning\n",
      "C:\\Users\\alexa\\Anaconda3\\lib\\site-packages\\sklearn\\metrics\\_classification.py:1221: UndefinedMetricWarning: Precision and F-score are ill-defined and being set to 0.0 in labels with no predicted samples. Use `zero_division` parameter to control this behavior.\n",
      "  _warn_prf(average, modifier, msg_start, len(result))\n",
      "C:\\Users\\alexa\\Anaconda3\\lib\\site-packages\\sklearn\\semi_supervised\\_label_propagation.py:281: RuntimeWarning: invalid value encountered in true_divide\n",
      "  self.label_distributions_ /= normalizer\n",
      "C:\\Users\\alexa\\Anaconda3\\lib\\site-packages\\sklearn\\semi_supervised\\_label_propagation.py:292: ConvergenceWarning: max_iter=1000 was reached without convergence.\n",
      "  category=ConvergenceWarning\n"
     ]
    },
    {
     "name": "stdout",
     "output_type": "stream",
     "text": [
      "9\n"
     ]
    },
    {
     "name": "stderr",
     "output_type": "stream",
     "text": [
      "C:\\Users\\alexa\\Anaconda3\\lib\\site-packages\\sklearn\\metrics\\_classification.py:1221: UndefinedMetricWarning: Precision and F-score are ill-defined and being set to 0.0 in labels with no predicted samples. Use `zero_division` parameter to control this behavior.\n",
      "  _warn_prf(average, modifier, msg_start, len(result))\n"
     ]
    }
   ],
   "source": [
    "main_labelX_CV(ratio=0.80, vectorizertype=CountVectorizer, ngram=1, nsplits=5)\n",
    "print(1)\n",
    "main_labelX_CV(ratio=0.90, vectorizertype=CountVectorizer, ngram=1, nsplits=5)\n",
    "print(2)\n",
    "main_labelX_CV(ratio=0.95, vectorizertype=CountVectorizer, ngram=1, nsplits=5)\n",
    "print(3)\n",
    "main_labelX_CV(ratio=0.80, vectorizertype=CountVectorizer, ngram=2, nsplits=5)\n",
    "print(4)\n",
    "main_labelX_CV(ratio=0.90, vectorizertype=CountVectorizer, ngram=2, nsplits=5)\n",
    "print(5)\n",
    "main_labelX_CV(ratio=0.95, vectorizertype=CountVectorizer, ngram=2, nsplits=5)\n",
    "print(6)\n",
    "main_labelX_CV(ratio=0.80, vectorizertype=TfidfVectorizer, ngram=2, nsplits=5)\n",
    "print(7)\n",
    "main_labelX_CV(ratio=0.90, vectorizertype=TfidfVectorizer, ngram=2, nsplits=5)\n",
    "print(8)\n",
    "main_labelX_CV(ratio=0.95, vectorizertype=TfidfVectorizer, ngram=2, nsplits=5)\n",
    "print(9)"
   ]
  },
  {
   "cell_type": "code",
   "execution_count": null,
   "metadata": {},
   "outputs": [],
   "source": []
  }
 ],
 "metadata": {
  "kernelspec": {
   "display_name": "Python 3",
   "language": "python",
   "name": "python3"
  },
  "language_info": {
   "codemirror_mode": {
    "name": "ipython",
    "version": 3
   },
   "file_extension": ".py",
   "mimetype": "text/x-python",
   "name": "python",
   "nbconvert_exporter": "python",
   "pygments_lexer": "ipython3",
   "version": "3.6.10"
  }
 },
 "nbformat": 4,
 "nbformat_minor": 2
}
