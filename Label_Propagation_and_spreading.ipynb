{
 "cells": [
  {
   "cell_type": "code",
   "execution_count": 1,
   "metadata": {},
   "outputs": [],
   "source": [
    "import sklearn\n",
    "import os \n",
    "import pandas as pd\n",
    "import numpy as np"
   ]
  },
  {
   "cell_type": "markdown",
   "metadata": {},
   "source": [
    "**IMPORTING FILES**"
   ]
  },
  {
   "cell_type": "code",
   "execution_count": 2,
   "metadata": {},
   "outputs": [],
   "source": [
    "#reads files and creates list\n",
    "def filereader(path):\n",
    "    list_of_comments = []\n",
    "    all_files = os.listdir(path)\n",
    "    for folder in all_files:\n",
    "        files = os.listdir(path+folder)\n",
    "        for file in files:\n",
    "            pathname = path+folder+'\\\\'+file\n",
    "            file = open(pathname, 'r')\n",
    "            list_of_comments.append(file.readline())\n",
    "    return list_of_comments"
   ]
  },
  {
   "cell_type": "code",
   "execution_count": 3,
   "metadata": {},
   "outputs": [],
   "source": [
    "neg_pol_truthful = filereader(\"C:\\\\Users\\\\aligthar\\\\Desktop\\\\negative_polarity\\\\truthful_from_Web\\\\\")\n",
    "neg_pol_deceptive = filereader(\"C:\\\\Users\\\\aligthar\\\\Desktop\\\\negative_polarity\\\\deceptive_from_MTurk\\\\\")\n",
    "pos_pol_truthful = filereader(\"C:\\\\Users\\\\aligthar\\\\Desktop\\\\positive_polarity\\\\truthful_from_TripAdvisor\\\\\")\n",
    "pos_pol_deceptive = filereader(\"C:\\\\Users\\\\aligthar\\\\Desktop\\\\positive_polarity\\\\deceptive_from_MTurk\\\\\")"
   ]
  },
  {
   "cell_type": "markdown",
   "metadata": {},
   "source": [
    "**PREPROCESSING**"
   ]
  },
  {
   "cell_type": "code",
   "execution_count": 4,
   "metadata": {},
   "outputs": [],
   "source": [
    "import nltk\n",
    "from nltk.corpus import stopwords\n",
    "from nltk.stem import WordNetLemmatizer\n",
    "from random import shuffle"
   ]
  },
  {
   "cell_type": "code",
   "execution_count": 5,
   "metadata": {},
   "outputs": [],
   "source": [
    "def preprocessing(text, pos_tags=False):\n",
    "    # tokenize into words\n",
    "    tokens = [word for sent in nltk.sent_tokenize(text) for word in nltk.word_tokenize(sent)]   \n",
    "\n",
    "    # remove stopwords\n",
    "    stop = stopwords.words('english')\n",
    "    tokens = [token for token in tokens if token not in stop]\n",
    "\n",
    "    # remove words less than three characters\n",
    "    tokens = [word for word in tokens if len(word) >= 3]\n",
    "\n",
    "    # remove capitalization\n",
    "    tokens = [word.lower() for word in tokens]\n",
    "\n",
    "    # lemmatizing\n",
    "    lmtzr = WordNetLemmatizer()\n",
    "    tokens = [lmtzr.lemmatize(word) for word in tokens]\n",
    "\n",
    "    # includes POS_tags\n",
    "    if pos_tags:\n",
    "        tokens = nltk.pos_tag(tokens)\n",
    "        tokens = ['_'.join(t) for t in tokens]\n",
    "    \n",
    "    preprocessed_text= ' '.join(tokens)\n",
    "\n",
    "    return preprocessed_text \n",
    "\n",
    "def preprocesser(list_of_texts): # turning lists into preprocessed lists\n",
    "    new = []\n",
    "    for item in list_of_texts:\n",
    "        new += [preprocessing(item)]\n",
    "    return new"
   ]
  },
  {
   "cell_type": "code",
   "execution_count": 6,
   "metadata": {},
   "outputs": [],
   "source": [
    "# labelling data: 0 for truthful, 1 for deceptive\n",
    "corpus_neg_truthful = [(r,0) for r in preprocesser(neg_pol_truthful)]\n",
    "corpus_neg_deceptive = [(r,1) for r in preprocesser(neg_pol_deceptive)]\n",
    "corpus_pos_truthful = [(r,0) for r in preprocesser(pos_pol_truthful)]\n",
    "corpus_pos_deceptive = [(r,1) for r in preprocesser(pos_pol_deceptive)]"
   ]
  },
  {
   "cell_type": "code",
   "execution_count": 7,
   "metadata": {},
   "outputs": [],
   "source": [
    "# shuffle data instances\n",
    "from random import shuffle\n",
    "corpus = corpus_neg_truthful+corpus_neg_deceptive+corpus_pos_truthful+corpus_pos_deceptive\n",
    "shuffle(corpus)\n",
    "reviews = [r for r,l in corpus]\n",
    "labels_y = [l for r,l in corpus]"
   ]
  },
  {
   "cell_type": "markdown",
   "metadata": {},
   "source": [
    "**LABEL PROPAGATION**"
   ]
  },
  {
   "cell_type": "code",
   "execution_count": 8,
   "metadata": {},
   "outputs": [],
   "source": [
    "from sklearn.feature_extraction.text import CountVectorizer, TfidfVectorizer\n",
    "from sklearn.semi_supervised import LabelPropagation, LabelSpreading\n",
    "from sklearn.svm import SVC\n",
    "from sklearn.naive_bayes import MultinomialNB\n",
    "from sklearn.ensemble import RandomForestClassifier\n",
    "from sklearn.feature_selection import chi2\n",
    "from sklearn.model_selection import cross_val_score, cross_validate, KFold\n",
    "from sklearn.metrics import classification_report, confusion_matrix, accuracy_score, recall_score, precision_score, f1_score\n",
    "from statistics import mean, stdev\n",
    "from datetime import datetime"
   ]
  },
  {
   "cell_type": "code",
   "execution_count": 12,
   "metadata": {},
   "outputs": [],
   "source": [
    "def main_labelX_CV(ratio, vectorizertype, ngram, nsplits):\n",
    "   \n",
    "    \"\"\"\n",
    "    Main function with cross-validation included\n",
    "    Parameters:\n",
    "        ratio (number of labels to remove) = float (0.80 / 0.90 / 0.95)\n",
    "        vectorizertype (word counts or TF-IDF values) = CountVectorizer / TfidfVectorizer\n",
    "        ngram (word pairs) = int (1=unigram, 2=bigram)\n",
    "        nsplits (cross validation splits) = int (number of splits)\n",
    "    \n",
    "    \"\"\"\n",
    "    # initialize results dictionary     \n",
    "    LP_results = {'accuracy':[], '1':{'precision':[], 'recall':[], 'f1-score':[]}}\n",
    "    LS_results = {'accuracy':[], '1':{'precision':[], 'recall':[], 'f1-score':[]}}\n",
    "    \n",
    "    \n",
    "    # creating dataframe \n",
    "    vectorizer = vectorizertype(min_df=2, max_df=0.5, ngram_range=(1,ngram))\n",
    "    X = vectorizer.fit_transform(reviews)\n",
    "    DF = pd.DataFrame(X.todense(),columns=vectorizer.get_feature_names())\n",
    "    DF['Y'] = labels_y\n",
    "    X = DF.drop('Y', axis=1)\n",
    "    y = DF['Y']\n",
    "    \n",
    "    # feature selection\n",
    "    def chi_square(X, y): \n",
    "        F, pval = chi2(X, y) \n",
    "        return F\n",
    "    def feature_ranking(F):\n",
    "        idx = np.argsort(F)\n",
    "        return idx[::-1]\n",
    "    df = pd.DataFrame(feature_ranking(chi_square(X,y)))\n",
    "    df.columns = ['column_numbers']\n",
    "    clms_toselect = df['column_numbers'].head(1000)\n",
    "    a = [DF.columns[i] for i in clms_toselect]\n",
    "    X = DF[a]\n",
    "    X = X.to_numpy()\n",
    "    \n",
    "    # KFold crossvalidation\n",
    "    kf = KFold(n_splits=nsplits, shuffle=False)\n",
    "    for train_index, test_index in kf.split(X):\n",
    "        X_train, X_test = X[train_index], X[test_index]\n",
    "        y_train, y_test = y[train_index], y[test_index]\n",
    "        \n",
    "        # removing labels    \n",
    "        rng = np.random.RandomState(42) \n",
    "        random_unlabeled_points = rng.rand(len(y_train)) < ratio # % ratio KNOB\n",
    "        labels = np.copy(y_train)\n",
    "        labels[random_unlabeled_points] = -1\n",
    "        y_train = labels\n",
    "\n",
    "        # train models\n",
    "        label_prop_model = LabelPropagation(kernel='knn', n_neighbors=200)        \n",
    "        label_prop_model.fit(X_train, y_train)\n",
    "\n",
    "        label_spread_model = LabelSpreading(kernel='knn', n_neighbors=200)    \n",
    "        label_spread_model.fit(X_train, y_train)\n",
    "\n",
    "        # evaluate models\n",
    "        y_pred_LP = label_prop_model.predict(X_test)\n",
    "        y_pred_LS = label_spread_model.predict(X_test)\n",
    "        \n",
    "        report = classification_report(y_test,y_pred_LP, output_dict=True)\n",
    "        LP_results['accuracy'] += [report['accuracy']]\n",
    "        LP_results['1']['precision'] += [report['1']['precision']]\n",
    "        LP_results['1']['recall'] += [report['1']['recall']]\n",
    "        LP_results['1']['f1-score'] += [report['1']['f1-score']]\n",
    "    \n",
    "        report = classification_report(y_test,y_pred_LS, output_dict=True)     \n",
    "        LS_results['accuracy'] += [report['accuracy']]\n",
    "        LS_results['1']['precision'] += [report['1']['precision']]\n",
    "        LS_results['1']['recall'] += [report['1']['recall']]\n",
    "        LS_results['1']['f1-score'] += [report['1']['f1-score']]\n",
    "\n",
    "    with open('Label_Prop_Spread_results.txt', 'a') as file:\n",
    "        file.write('___ratio:' + str(ratio) + '|ngram:' + str(ngram) + '|vectorizer:'+ str(vectorizertype) + '___\\n')\n",
    "        file.write('Label Propagation:\\n')\n",
    "        file.write('accuracy: ' + str(round(mean(LP_results['accuracy']),2)) + '\\n')\n",
    "        file.write('stddev: ' + str(stdev(LP_results['accuracy'])) + '\\n')\n",
    "        file.write('precision: ' + str(round(mean(LP_results['1']['precision']),2)) + '\\n')\n",
    "        file.write('recall: ' + str(round(mean(LP_results['1']['recall']),2)) + '\\n')\n",
    "        file.write('F1 :' + str(round(mean(LP_results['1']['f1-score']),2)) + '\\n\\n')\n",
    "\n",
    "        file.write('Label Spreading:\\n')        \n",
    "        file.write('accuracy: ' + str(round(mean(LS_results['accuracy']),2)) + '\\n')\n",
    "        file.write('stddev: ' + str(stdev(LS_results['accuracy'])) + '\\n')\n",
    "        file.write('precision: ' + str(round(mean(LS_results['1']['precision']),2)) + '\\n')\n",
    "        file.write('recall: ' + str(round(mean(LS_results['1']['recall']),2)) + '\\n')\n",
    "        file.write('F1 :' + str(round(mean(LS_results['1']['f1-score']),2)) + '\\n\\n')\n",
    "        obj = datetime.now()\n",
    "        file.write(str(obj) + '\\n\\n\\n')"
   ]
  },
  {
   "cell_type": "code",
   "execution_count": 13,
   "metadata": {},
   "outputs": [
    {
     "name": "stderr",
     "output_type": "stream",
     "text": [
      "C:\\Users\\aligthar\\AppData\\Local\\Continuum\\anaconda3\\lib\\site-packages\\sklearn\\metrics\\classification.py:1437: UndefinedMetricWarning: Precision and F-score are ill-defined and being set to 0.0 in labels with no predicted samples.\n",
      "  'precision', 'predicted', average, warn_for)\n",
      "C:\\Users\\aligthar\\AppData\\Local\\Continuum\\anaconda3\\lib\\site-packages\\sklearn\\metrics\\classification.py:1437: UndefinedMetricWarning: Precision and F-score are ill-defined and being set to 0.0 in labels with no predicted samples.\n",
      "  'precision', 'predicted', average, warn_for)\n",
      "C:\\Users\\aligthar\\AppData\\Local\\Continuum\\anaconda3\\lib\\site-packages\\sklearn\\metrics\\classification.py:1437: UndefinedMetricWarning: Precision and F-score are ill-defined and being set to 0.0 in labels with no predicted samples.\n",
      "  'precision', 'predicted', average, warn_for)\n"
     ]
    }
   ],
   "source": [
    "main_labelX_CV(ratio=0.80, vectorizertype=CountVectorizer, ngram=1, nsplits=5)"
   ]
  }
 ],
 "metadata": {
  "kernelspec": {
   "display_name": "Python 3",
   "language": "python",
   "name": "python3"
  },
  "language_info": {
   "codemirror_mode": {
    "name": "ipython",
    "version": 3
   },
   "file_extension": ".py",
   "mimetype": "text/x-python",
   "name": "python",
   "nbconvert_exporter": "python",
   "pygments_lexer": "ipython3",
   "version": "3.7.3"
  }
 },
 "nbformat": 4,
 "nbformat_minor": 2
}
